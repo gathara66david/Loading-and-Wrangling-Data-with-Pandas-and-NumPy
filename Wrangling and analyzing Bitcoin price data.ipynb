{
 "cells": [
  {
   "cell_type": "code",
   "execution_count": null,
   "metadata": {},
   "outputs": [],
   "source": []
  },
  {
   "cell_type": "code",
   "execution_count": 1,
   "metadata": {},
   "outputs": [],
   "source": [
    "import pandas as pd"
   ]
  },
  {
   "cell_type": "code",
   "execution_count": 2,
   "metadata": {},
   "outputs": [
    {
     "data": {
      "text/html": [
       "<div>\n",
       "<style scoped>\n",
       "    .dataframe tbody tr th:only-of-type {\n",
       "        vertical-align: middle;\n",
       "    }\n",
       "\n",
       "    .dataframe tbody tr th {\n",
       "        vertical-align: top;\n",
       "    }\n",
       "\n",
       "    .dataframe thead th {\n",
       "        text-align: right;\n",
       "    }\n",
       "</style>\n",
       "<table border=\"1\" class=\"dataframe\">\n",
       "  <thead>\n",
       "    <tr style=\"text-align: right;\">\n",
       "      <th></th>\n",
       "      <th>symbol</th>\n",
       "      <th>time</th>\n",
       "      <th>open</th>\n",
       "      <th>close</th>\n",
       "      <th>high</th>\n",
       "      <th>low</th>\n",
       "      <th>volume</th>\n",
       "    </tr>\n",
       "  </thead>\n",
       "  <tbody>\n",
       "    <tr>\n",
       "      <th>0</th>\n",
       "      <td>btcusd</td>\n",
       "      <td>1364688000000</td>\n",
       "      <td>92.500000</td>\n",
       "      <td>93.033000</td>\n",
       "      <td>93.74999</td>\n",
       "      <td>91.00000</td>\n",
       "      <td>3083.079791</td>\n",
       "    </tr>\n",
       "    <tr>\n",
       "      <th>1</th>\n",
       "      <td>btcusd</td>\n",
       "      <td>1364774400000</td>\n",
       "      <td>93.250000</td>\n",
       "      <td>103.999000</td>\n",
       "      <td>105.90000</td>\n",
       "      <td>92.49999</td>\n",
       "      <td>5224.401313</td>\n",
       "    </tr>\n",
       "    <tr>\n",
       "      <th>2</th>\n",
       "      <td>btcusd</td>\n",
       "      <td>1364860800000</td>\n",
       "      <td>104.000000</td>\n",
       "      <td>118.229354</td>\n",
       "      <td>118.38670</td>\n",
       "      <td>99.00000</td>\n",
       "      <td>8376.527478</td>\n",
       "    </tr>\n",
       "    <tr>\n",
       "      <th>3</th>\n",
       "      <td>btcusd</td>\n",
       "      <td>1364947200000</td>\n",
       "      <td>117.958261</td>\n",
       "      <td>134.700000</td>\n",
       "      <td>146.88000</td>\n",
       "      <td>101.51088</td>\n",
       "      <td>12996.245072</td>\n",
       "    </tr>\n",
       "    <tr>\n",
       "      <th>4</th>\n",
       "      <td>btcusd</td>\n",
       "      <td>1365033600000</td>\n",
       "      <td>134.716560</td>\n",
       "      <td>132.899000</td>\n",
       "      <td>143.00000</td>\n",
       "      <td>119.00000</td>\n",
       "      <td>6981.668305</td>\n",
       "    </tr>\n",
       "  </tbody>\n",
       "</table>\n",
       "</div>"
      ],
      "text/plain": [
       "   symbol           time        open       close       high        low  \\\n",
       "0  btcusd  1364688000000   92.500000   93.033000   93.74999   91.00000   \n",
       "1  btcusd  1364774400000   93.250000  103.999000  105.90000   92.49999   \n",
       "2  btcusd  1364860800000  104.000000  118.229354  118.38670   99.00000   \n",
       "3  btcusd  1364947200000  117.958261  134.700000  146.88000  101.51088   \n",
       "4  btcusd  1365033600000  134.716560  132.899000  143.00000  119.00000   \n",
       "\n",
       "         volume  \n",
       "0   3083.079791  \n",
       "1   5224.401313  \n",
       "2   8376.527478  \n",
       "3  12996.245072  \n",
       "4   6981.668305  "
      ]
     },
     "execution_count": 2,
     "metadata": {},
     "output_type": "execute_result"
    }
   ],
   "source": [
    "btc_csv = pd.read_csv(r\"C:\\Users\\David gathara marigi\\Downloads\\bitcoin_price.csv\")\n",
    "btc_csv.head()"
   ]
  },
  {
   "cell_type": "code",
   "execution_count": 3,
   "metadata": {},
   "outputs": [
    {
     "data": {
      "text/plain": [
       "array(['btcusd'], dtype=object)"
      ]
     },
     "execution_count": 3,
     "metadata": {},
     "output_type": "execute_result"
    }
   ],
   "source": [
    "btc_csv['symbol'].unique()"
   ]
  },
  {
   "cell_type": "code",
   "execution_count": 4,
   "metadata": {},
   "outputs": [],
   "source": [
    "btc_csv.drop('symbol', axis=1, inplace=True)"
   ]
  },
  {
   "cell_type": "code",
   "execution_count": 5,
   "metadata": {},
   "outputs": [],
   "source": [
    "btc_csv['time'] = pd.to_datetime(btc_csv['time'], unit='ms')\n"
   ]
  },
  {
   "cell_type": "code",
   "execution_count": 6,
   "metadata": {},
   "outputs": [],
   "source": [
    "btc_csv.set_index('time', inplace=True)\n"
   ]
  },
  {
   "cell_type": "code",
   "execution_count": 7,
   "metadata": {},
   "outputs": [],
   "source": [
    "import matplotlib.pyplot as plt"
   ]
  },
  {
   "cell_type": "code",
   "execution_count": 8,
   "metadata": {},
   "outputs": [
    {
     "data": {
      "text/plain": [
       "Text(0, 0.5, 'Price')"
      ]
     },
     "execution_count": 8,
     "metadata": {},
     "output_type": "execute_result"
    },
    {
     "data": {
      "image/png": "[encoded data removed]",
      "text/plain": [
       "<Figure size 640x480 with 1 Axes>"
      ]
     },
     "metadata": {},
     "output_type": "display_data"
    }
   ],
   "source": [
    "btc_csv['close'].plot(logy=True)\n",
    "plt.title('BTC Price')\n",
    "plt.ylabel('Price')"
   ]
  },
  {
   "cell_type": "markdown",
   "metadata": {},
   "source": [
    "                                or i can load as this"
   ]
  },
  {
   "cell_type": "code",
   "execution_count": 9,
   "metadata": {},
   "outputs": [
    {
     "name": "stdout",
     "output_type": "stream",
     "text": [
      "               symbol        open       close       high        low  \\\n",
      "time                                                                  \n",
      "1364688000000  btcusd   92.500000   93.033000   93.74999   91.00000   \n",
      "1364774400000  btcusd   93.250000  103.999000  105.90000   92.49999   \n",
      "1364860800000  btcusd  104.000000  118.229354  118.38670   99.00000   \n",
      "1364947200000  btcusd  117.958261  134.700000  146.88000  101.51088   \n",
      "1365033600000  btcusd  134.716560  132.899000  143.00000  119.00000   \n",
      "\n",
      "                     volume  \n",
      "time                         \n",
      "1364688000000   3083.079791  \n",
      "1364774400000   5224.401313  \n",
      "1364860800000   8376.527478  \n",
      "1364947200000  12996.245072  \n",
      "1365033600000   6981.668305  \n"
     ]
    },
    {
     "name": "stderr",
     "output_type": "stream",
     "text": [
      "C:\\Users\\David gathara marigi\\AppData\\Local\\Temp\\ipykernel_18132\\2604801813.py:1: UserWarning: Could not infer format, so each element will be parsed individually, falling back to `dateutil`. To ensure parsing is consistent and as-expected, please specify a format.\n",
      "  btc_df = pd.read_csv(r\"C:\\Users\\David gathara marigi\\Downloads\\bitcoin_price.csv\", index_col='time', parse_dates=['time'])\n"
     ]
    }
   ],
   "source": [
    "btc_df = pd.read_csv(r\"C:\\Users\\David gathara marigi\\Downloads\\bitcoin_price.csv\", index_col='time', parse_dates=['time'])\n",
    "print(btc_df.head())"
   ]
  },
  {
   "cell_type": "code",
   "execution_count": 10,
   "metadata": {},
   "outputs": [
    {
     "name": "stdout",
     "output_type": "stream",
     "text": [
      "            symbol        open       close       high        low        volume\n",
      "time                                                                          \n",
      "2013-03-31  btcusd   92.500000   93.033000   93.74999   91.00000   3083.079791\n",
      "2013-04-01  btcusd   93.250000  103.999000  105.90000   92.49999   5224.401313\n",
      "2013-04-02  btcusd  104.000000  118.229354  118.38670   99.00000   8376.527478\n",
      "2013-04-03  btcusd  117.958261  134.700000  146.88000  101.51088  12996.245072\n",
      "2013-04-04  btcusd  134.716560  132.899000  143.00000  119.00000   6981.668305\n"
     ]
    }
   ],
   "source": [
    "\n",
    "btc_df = pd.read_csv(r\"C:\\Users\\David gathara marigi\\Downloads\\bitcoin_price.csv\")\n",
    "btc_df['time'] = pd.to_numeric(btc_df['time'])\n",
    "btc_df['time'] = pd.to_datetime(btc_df['time'], unit='ms')\n",
    "btc_df.set_index('time', inplace=True)\n",
    "\n",
    "print(btc_df.head())"
   ]
  },
  {
   "cell_type": "code",
   "execution_count": 11,
   "metadata": {},
   "outputs": [
    {
     "data": {
      "text/html": [
       "<div>\n",
       "<style scoped>\n",
       "    .dataframe tbody tr th:only-of-type {\n",
       "        vertical-align: middle;\n",
       "    }\n",
       "\n",
       "    .dataframe tbody tr th {\n",
       "        vertical-align: top;\n",
       "    }\n",
       "\n",
       "    .dataframe thead th {\n",
       "        text-align: right;\n",
       "    }\n",
       "</style>\n",
       "<table border=\"1\" class=\"dataframe\">\n",
       "  <thead>\n",
       "    <tr style=\"text-align: right;\">\n",
       "      <th></th>\n",
       "      <th>symbol</th>\n",
       "      <th>open</th>\n",
       "      <th>close</th>\n",
       "      <th>high</th>\n",
       "      <th>low</th>\n",
       "      <th>volume</th>\n",
       "    </tr>\n",
       "    <tr>\n",
       "      <th>time</th>\n",
       "      <th></th>\n",
       "      <th></th>\n",
       "      <th></th>\n",
       "      <th></th>\n",
       "      <th></th>\n",
       "      <th></th>\n",
       "    </tr>\n",
       "  </thead>\n",
       "  <tbody>\n",
       "    <tr>\n",
       "      <th>2019-01-01</th>\n",
       "      <td>btcusd</td>\n",
       "      <td>3832.628624</td>\n",
       "      <td>3963.1</td>\n",
       "      <td>3987.000000</td>\n",
       "      <td>3788.100000</td>\n",
       "      <td>13848.346752</td>\n",
       "    </tr>\n",
       "    <tr>\n",
       "      <th>2019-01-02</th>\n",
       "      <td>btcusd</td>\n",
       "      <td>3963.000000</td>\n",
       "      <td>4048.8</td>\n",
       "      <td>4083.470676</td>\n",
       "      <td>3917.900000</td>\n",
       "      <td>19437.727989</td>\n",
       "    </tr>\n",
       "    <tr>\n",
       "      <th>2019-01-03</th>\n",
       "      <td>btcusd</td>\n",
       "      <td>4049.000000</td>\n",
       "      <td>3924.3</td>\n",
       "      <td>4056.644331</td>\n",
       "      <td>3875.100000</td>\n",
       "      <td>10748.083712</td>\n",
       "    </tr>\n",
       "    <tr>\n",
       "      <th>2019-01-04</th>\n",
       "      <td>btcusd</td>\n",
       "      <td>3923.200000</td>\n",
       "      <td>3954.9</td>\n",
       "      <td>3986.000000</td>\n",
       "      <td>3850.100000</td>\n",
       "      <td>13228.660465</td>\n",
       "    </tr>\n",
       "    <tr>\n",
       "      <th>2019-01-05</th>\n",
       "      <td>btcusd</td>\n",
       "      <td>3954.900000</td>\n",
       "      <td>3911.9</td>\n",
       "      <td>4014.900000</td>\n",
       "      <td>3901.000000</td>\n",
       "      <td>14873.962225</td>\n",
       "    </tr>\n",
       "    <tr>\n",
       "      <th>...</th>\n",
       "      <td>...</td>\n",
       "      <td>...</td>\n",
       "      <td>...</td>\n",
       "      <td>...</td>\n",
       "      <td>...</td>\n",
       "      <td>...</td>\n",
       "    </tr>\n",
       "    <tr>\n",
       "      <th>2019-12-27</th>\n",
       "      <td>btcusd</td>\n",
       "      <td>7231.600000</td>\n",
       "      <td>7287.0</td>\n",
       "      <td>7300.000000</td>\n",
       "      <td>7113.300000</td>\n",
       "      <td>3996.647227</td>\n",
       "    </tr>\n",
       "    <tr>\n",
       "      <th>2019-12-28</th>\n",
       "      <td>btcusd</td>\n",
       "      <td>7287.000000</td>\n",
       "      <td>7334.4</td>\n",
       "      <td>7390.000000</td>\n",
       "      <td>7279.200000</td>\n",
       "      <td>2731.060711</td>\n",
       "    </tr>\n",
       "    <tr>\n",
       "      <th>2019-12-29</th>\n",
       "      <td>btcusd</td>\n",
       "      <td>7334.400000</td>\n",
       "      <td>7413.6</td>\n",
       "      <td>7551.600000</td>\n",
       "      <td>7311.600000</td>\n",
       "      <td>2494.487206</td>\n",
       "    </tr>\n",
       "    <tr>\n",
       "      <th>2019-12-30</th>\n",
       "      <td>btcusd</td>\n",
       "      <td>7416.100000</td>\n",
       "      <td>7260.9</td>\n",
       "      <td>7421.700000</td>\n",
       "      <td>7201.290265</td>\n",
       "      <td>4088.958159</td>\n",
       "    </tr>\n",
       "    <tr>\n",
       "      <th>2019-12-31</th>\n",
       "      <td>btcusd</td>\n",
       "      <td>7260.900000</td>\n",
       "      <td>7208.3</td>\n",
       "      <td>7333.000000</td>\n",
       "      <td>7161.300000</td>\n",
       "      <td>2992.686133</td>\n",
       "    </tr>\n",
       "  </tbody>\n",
       "</table>\n",
       "<p>365 rows × 6 columns</p>\n",
       "</div>"
      ],
      "text/plain": [
       "            symbol         open   close         high          low  \\\n",
       "time                                                                \n",
       "2019-01-01  btcusd  3832.628624  3963.1  3987.000000  3788.100000   \n",
       "2019-01-02  btcusd  3963.000000  4048.8  4083.470676  3917.900000   \n",
       "2019-01-03  btcusd  4049.000000  3924.3  4056.644331  3875.100000   \n",
       "2019-01-04  btcusd  3923.200000  3954.9  3986.000000  3850.100000   \n",
       "2019-01-05  btcusd  3954.900000  3911.9  4014.900000  3901.000000   \n",
       "...            ...          ...     ...          ...          ...   \n",
       "2019-12-27  btcusd  7231.600000  7287.0  7300.000000  7113.300000   \n",
       "2019-12-28  btcusd  7287.000000  7334.4  7390.000000  7279.200000   \n",
       "2019-12-29  btcusd  7334.400000  7413.6  7551.600000  7311.600000   \n",
       "2019-12-30  btcusd  7416.100000  7260.9  7421.700000  7201.290265   \n",
       "2019-12-31  btcusd  7260.900000  7208.3  7333.000000  7161.300000   \n",
       "\n",
       "                  volume  \n",
       "time                      \n",
       "2019-01-01  13848.346752  \n",
       "2019-01-02  19437.727989  \n",
       "2019-01-03  10748.083712  \n",
       "2019-01-04  13228.660465  \n",
       "2019-01-05  14873.962225  \n",
       "...                  ...  \n",
       "2019-12-27   3996.647227  \n",
       "2019-12-28   2731.060711  \n",
       "2019-12-29   2494.487206  \n",
       "2019-12-30   4088.958159  \n",
       "2019-12-31   2992.686133  \n",
       "\n",
       "[365 rows x 6 columns]"
      ]
     },
     "execution_count": 11,
     "metadata": {},
     "output_type": "execute_result"
    }
   ],
   "source": [
    "btc_df.loc['1-1-2019':'12-31-2019']\n"
   ]
  },
  {
   "cell_type": "code",
   "execution_count": 12,
   "metadata": {},
   "outputs": [
    {
     "data": {
      "text/html": [
       "<div>\n",
       "<style scoped>\n",
       "    .dataframe tbody tr th:only-of-type {\n",
       "        vertical-align: middle;\n",
       "    }\n",
       "\n",
       "    .dataframe tbody tr th {\n",
       "        vertical-align: top;\n",
       "    }\n",
       "\n",
       "    .dataframe thead th {\n",
       "        text-align: right;\n",
       "    }\n",
       "</style>\n",
       "<table border=\"1\" class=\"dataframe\">\n",
       "  <thead>\n",
       "    <tr style=\"text-align: right;\">\n",
       "      <th></th>\n",
       "      <th>symbol</th>\n",
       "      <th>open</th>\n",
       "      <th>close</th>\n",
       "      <th>high</th>\n",
       "      <th>low</th>\n",
       "      <th>volume</th>\n",
       "    </tr>\n",
       "    <tr>\n",
       "      <th>time</th>\n",
       "      <th></th>\n",
       "      <th></th>\n",
       "      <th></th>\n",
       "      <th></th>\n",
       "      <th></th>\n",
       "      <th></th>\n",
       "    </tr>\n",
       "  </thead>\n",
       "  <tbody>\n",
       "    <tr>\n",
       "      <th>2019-01-01</th>\n",
       "      <td>btcusd</td>\n",
       "      <td>3832.628624</td>\n",
       "      <td>3963.1</td>\n",
       "      <td>3987.000000</td>\n",
       "      <td>3788.100000</td>\n",
       "      <td>13848.346752</td>\n",
       "    </tr>\n",
       "    <tr>\n",
       "      <th>2019-01-02</th>\n",
       "      <td>btcusd</td>\n",
       "      <td>3963.000000</td>\n",
       "      <td>4048.8</td>\n",
       "      <td>4083.470676</td>\n",
       "      <td>3917.900000</td>\n",
       "      <td>19437.727989</td>\n",
       "    </tr>\n",
       "    <tr>\n",
       "      <th>2019-01-03</th>\n",
       "      <td>btcusd</td>\n",
       "      <td>4049.000000</td>\n",
       "      <td>3924.3</td>\n",
       "      <td>4056.644331</td>\n",
       "      <td>3875.100000</td>\n",
       "      <td>10748.083712</td>\n",
       "    </tr>\n",
       "    <tr>\n",
       "      <th>2019-01-04</th>\n",
       "      <td>btcusd</td>\n",
       "      <td>3923.200000</td>\n",
       "      <td>3954.9</td>\n",
       "      <td>3986.000000</td>\n",
       "      <td>3850.100000</td>\n",
       "      <td>13228.660465</td>\n",
       "    </tr>\n",
       "    <tr>\n",
       "      <th>2019-01-05</th>\n",
       "      <td>btcusd</td>\n",
       "      <td>3954.900000</td>\n",
       "      <td>3911.9</td>\n",
       "      <td>4014.900000</td>\n",
       "      <td>3901.000000</td>\n",
       "      <td>14873.962225</td>\n",
       "    </tr>\n",
       "    <tr>\n",
       "      <th>...</th>\n",
       "      <td>...</td>\n",
       "      <td>...</td>\n",
       "      <td>...</td>\n",
       "      <td>...</td>\n",
       "      <td>...</td>\n",
       "      <td>...</td>\n",
       "    </tr>\n",
       "    <tr>\n",
       "      <th>2019-12-27</th>\n",
       "      <td>btcusd</td>\n",
       "      <td>7231.600000</td>\n",
       "      <td>7287.0</td>\n",
       "      <td>7300.000000</td>\n",
       "      <td>7113.300000</td>\n",
       "      <td>3996.647227</td>\n",
       "    </tr>\n",
       "    <tr>\n",
       "      <th>2019-12-28</th>\n",
       "      <td>btcusd</td>\n",
       "      <td>7287.000000</td>\n",
       "      <td>7334.4</td>\n",
       "      <td>7390.000000</td>\n",
       "      <td>7279.200000</td>\n",
       "      <td>2731.060711</td>\n",
       "    </tr>\n",
       "    <tr>\n",
       "      <th>2019-12-29</th>\n",
       "      <td>btcusd</td>\n",
       "      <td>7334.400000</td>\n",
       "      <td>7413.6</td>\n",
       "      <td>7551.600000</td>\n",
       "      <td>7311.600000</td>\n",
       "      <td>2494.487206</td>\n",
       "    </tr>\n",
       "    <tr>\n",
       "      <th>2019-12-30</th>\n",
       "      <td>btcusd</td>\n",
       "      <td>7416.100000</td>\n",
       "      <td>7260.9</td>\n",
       "      <td>7421.700000</td>\n",
       "      <td>7201.290265</td>\n",
       "      <td>4088.958159</td>\n",
       "    </tr>\n",
       "    <tr>\n",
       "      <th>2019-12-31</th>\n",
       "      <td>btcusd</td>\n",
       "      <td>7260.900000</td>\n",
       "      <td>7208.3</td>\n",
       "      <td>7333.000000</td>\n",
       "      <td>7161.300000</td>\n",
       "      <td>2992.686133</td>\n",
       "    </tr>\n",
       "  </tbody>\n",
       "</table>\n",
       "<p>365 rows × 6 columns</p>\n",
       "</div>"
      ],
      "text/plain": [
       "            symbol         open   close         high          low  \\\n",
       "time                                                                \n",
       "2019-01-01  btcusd  3832.628624  3963.1  3987.000000  3788.100000   \n",
       "2019-01-02  btcusd  3963.000000  4048.8  4083.470676  3917.900000   \n",
       "2019-01-03  btcusd  4049.000000  3924.3  4056.644331  3875.100000   \n",
       "2019-01-04  btcusd  3923.200000  3954.9  3986.000000  3850.100000   \n",
       "2019-01-05  btcusd  3954.900000  3911.9  4014.900000  3901.000000   \n",
       "...            ...          ...     ...          ...          ...   \n",
       "2019-12-27  btcusd  7231.600000  7287.0  7300.000000  7113.300000   \n",
       "2019-12-28  btcusd  7287.000000  7334.4  7390.000000  7279.200000   \n",
       "2019-12-29  btcusd  7334.400000  7413.6  7551.600000  7311.600000   \n",
       "2019-12-30  btcusd  7416.100000  7260.9  7421.700000  7201.290265   \n",
       "2019-12-31  btcusd  7260.900000  7208.3  7333.000000  7161.300000   \n",
       "\n",
       "                  volume  \n",
       "time                      \n",
       "2019-01-01  13848.346752  \n",
       "2019-01-02  19437.727989  \n",
       "2019-01-03  10748.083712  \n",
       "2019-01-04  13228.660465  \n",
       "2019-01-05  14873.962225  \n",
       "...                  ...  \n",
       "2019-12-27   3996.647227  \n",
       "2019-12-28   2731.060711  \n",
       "2019-12-29   2494.487206  \n",
       "2019-12-30   4088.958159  \n",
       "2019-12-31   2992.686133  \n",
       "\n",
       "[365 rows x 6 columns]"
      ]
     },
     "execution_count": 12,
     "metadata": {},
     "output_type": "execute_result"
    }
   ],
   "source": [
    "btc_df.loc['2019']"
   ]
  },
  {
   "cell_type": "markdown",
   "metadata": {},
   "source": [
    "                                          Understanding NumPy basics"
   ]
  },
  {
   "cell_type": "code",
   "execution_count": 13,
   "metadata": {},
   "outputs": [],
   "source": [
    "close_array = btc_df['close'].values"
   ]
  },
  {
   "cell_type": "code",
   "execution_count": 14,
   "metadata": {},
   "outputs": [],
   "source": [
    "import numpy as np"
   ]
  },
  {
   "cell_type": "code",
   "execution_count": 15,
   "metadata": {},
   "outputs": [],
   "source": [
    "close_list = btc_df['close'].to_list()\n",
    "close_array = np.array(close_list)\n"
   ]
  },
  {
   "cell_type": "markdown",
   "metadata": {},
   "source": [
    "                                        Using NumPy mathematical functions"
   ]
  },
  {
   "cell_type": "code",
   "execution_count": 16,
   "metadata": {},
   "outputs": [],
   "source": [
    "kd_close = close_array / 1000"
   ]
  },
  {
   "cell_type": "code",
   "execution_count": 17,
   "metadata": {},
   "outputs": [],
   "source": [
    "kd_close_list = [c / 1000 for c in close_list]"
   ]
  },
  {
   "cell_type": "code",
   "execution_count": 18,
   "metadata": {},
   "outputs": [
    {
     "name": "stdout",
     "output_type": "stream",
     "text": [
      "11.8 μs ± 4.22 μs per loop (mean ± std. dev. of 7 runs, 10,000 loops each)\n",
      "751 μs ± 208 μs per loop (mean ± std. dev. of 7 runs, 1,000 loops each)\n"
     ]
    }
   ],
   "source": [
    "%timeit kd_close = close_array / 1000\n",
    "%timeit kd_close_list = [c / 1000 for c in close_list]"
   ]
  },
  {
   "cell_type": "code",
   "execution_count": 19,
   "metadata": {},
   "outputs": [
    {
     "data": {
      "text/plain": [
       "array([2.86828162e+05, 5.43332512e+05, 9.90351433e+05, ...,\n",
       "       5.91110933e+08, 1.92622769e+08, 6.25398332e+07])"
      ]
     },
     "execution_count": 19,
     "metadata": {},
     "output_type": "execute_result"
    }
   ],
   "source": [
    "volume_array = btc_df['volume'].values\n",
    "close_array * volume_array"
   ]
  },
  {
   "cell_type": "code",
   "execution_count": 20,
   "metadata": {},
   "outputs": [],
   "source": [
    "btc_df['market_cap'] = btc_df['close'] * btc_df['volume']"
   ]
  },
  {
   "cell_type": "code",
   "execution_count": 21,
   "metadata": {},
   "outputs": [
    {
     "data": {
      "text/plain": [
       "time\n",
       "2013-03-31    4.532954\n",
       "2013-04-01    4.644381\n",
       "2013-04-02    4.772626\n",
       "2013-04-03    4.903050\n",
       "2013-04-04    4.889589\n",
       "                ...   \n",
       "2020-11-24    9.859065\n",
       "2020-11-25    9.837722\n",
       "2020-11-26    9.753344\n",
       "2020-11-27    9.750977\n",
       "2020-11-28    9.780576\n",
       "Name: close, Length: 2793, dtype: float64"
      ]
     },
     "execution_count": 21,
     "metadata": {},
     "output_type": "execute_result"
    }
   ],
   "source": [
    "np.log(btc_df['close'])\n"
   ]
  },
  {
   "cell_type": "code",
   "execution_count": null,
   "metadata": {},
   "outputs": [],
   "source": []
  }
 ],
 "metadata": {
  "kernelspec": {
   "display_name": "Python 3",
   "language": "python",
   "name": "python3"
  },
  "language_info": {
   "codemirror_mode": {
    "name": "ipython",
    "version": 3
   },
   "file_extension": ".py",
   "mimetype": "text/x-python",
   "name": "python",
   "nbconvert_exporter": "python",
   "pygments_lexer": "ipython3",
   "version": "3.11.9"
  }
 },
 "nbformat": 4,
 "nbformat_minor": 2
}
