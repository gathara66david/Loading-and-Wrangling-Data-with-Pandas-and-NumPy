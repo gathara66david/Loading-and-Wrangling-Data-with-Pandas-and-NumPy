{
 "cells": [
  {
   "cell_type": "markdown",
   "metadata": {},
   "source": [
    "    In general, we can follow a general EDA checklist:\n",
    ".Examine the top and bottom of the data\n",
    ".Examine the data's dimensions\n",
    ".Examine the datatypes and missing values\n",
    ".Investigate statistical properties of the data\n",
    ".Create plots of the data"
   ]
  },
  {
   "cell_type": "code",
   "execution_count": 1,
   "metadata": {},
   "outputs": [],
   "source": [
    "import pandas as pd\n",
    "from sqlalchemy import create_engine"
   ]
  },
  {
   "cell_type": "code",
   "execution_count": 2,
   "metadata": {},
   "outputs": [
    {
     "data": {
      "text/html": [
       "<div>\n",
       "<style scoped>\n",
       "    .dataframe tbody tr th:only-of-type {\n",
       "        vertical-align: middle;\n",
       "    }\n",
       "\n",
       "    .dataframe tbody tr th {\n",
       "        vertical-align: top;\n",
       "    }\n",
       "\n",
       "    .dataframe thead th {\n",
       "        text-align: right;\n",
       "    }\n",
       "</style>\n",
       "<table border=\"1\" class=\"dataframe\">\n",
       "  <thead>\n",
       "    <tr style=\"text-align: right;\">\n",
       "      <th></th>\n",
       "      <th>Track</th>\n",
       "      <th>Composer</th>\n",
       "      <th>Milliseconds</th>\n",
       "      <th>Bytes</th>\n",
       "      <th>UnitPrice</th>\n",
       "      <th>Genre</th>\n",
       "      <th>Album</th>\n",
       "      <th>Artist</th>\n",
       "    </tr>\n",
       "  </thead>\n",
       "  <tbody>\n",
       "    <tr>\n",
       "      <th>3498</th>\n",
       "      <td>Pini Di Roma (Pinien Von Rom) \\ I Pini Della V...</td>\n",
       "      <td>None</td>\n",
       "      <td>286741</td>\n",
       "      <td>4718950</td>\n",
       "      <td>0.99</td>\n",
       "      <td>Classical</td>\n",
       "      <td>Respighi:Pines of Rome</td>\n",
       "      <td>Eugene Ormandy</td>\n",
       "    </tr>\n",
       "    <tr>\n",
       "      <th>3499</th>\n",
       "      <td>String Quartet No. 12 in C Minor, D. 703 \"Quar...</td>\n",
       "      <td>Franz Schubert</td>\n",
       "      <td>139200</td>\n",
       "      <td>2283131</td>\n",
       "      <td>0.99</td>\n",
       "      <td>Classical</td>\n",
       "      <td>Schubert: The Late String Quartets &amp; String Qu...</td>\n",
       "      <td>Emerson String Quartet</td>\n",
       "    </tr>\n",
       "    <tr>\n",
       "      <th>3500</th>\n",
       "      <td>L'orfeo, Act 3, Sinfonia (Orchestra)</td>\n",
       "      <td>Claudio Monteverdi</td>\n",
       "      <td>66639</td>\n",
       "      <td>1189062</td>\n",
       "      <td>0.99</td>\n",
       "      <td>Classical</td>\n",
       "      <td>Monteverdi: L'Orfeo</td>\n",
       "      <td>C. Monteverdi, Nigel Rogers - Chiaroscuro; Lon...</td>\n",
       "    </tr>\n",
       "    <tr>\n",
       "      <th>3501</th>\n",
       "      <td>Quintet for Horn, Violin, 2 Violas, and Cello ...</td>\n",
       "      <td>Wolfgang Amadeus Mozart</td>\n",
       "      <td>221331</td>\n",
       "      <td>3665114</td>\n",
       "      <td>0.99</td>\n",
       "      <td>Classical</td>\n",
       "      <td>Mozart: Chamber Music</td>\n",
       "      <td>Nash Ensemble</td>\n",
       "    </tr>\n",
       "    <tr>\n",
       "      <th>3502</th>\n",
       "      <td>Koyaanisqatsi</td>\n",
       "      <td>Philip Glass</td>\n",
       "      <td>206005</td>\n",
       "      <td>3305164</td>\n",
       "      <td>0.99</td>\n",
       "      <td>Soundtrack</td>\n",
       "      <td>Koyaanisqatsi (Soundtrack from the Motion Pict...</td>\n",
       "      <td>Philip Glass Ensemble</td>\n",
       "    </tr>\n",
       "  </tbody>\n",
       "</table>\n",
       "</div>"
      ],
      "text/plain": [
       "                                                  Track  \\\n",
       "3498  Pini Di Roma (Pinien Von Rom) \\ I Pini Della V...   \n",
       "3499  String Quartet No. 12 in C Minor, D. 703 \"Quar...   \n",
       "3500               L'orfeo, Act 3, Sinfonia (Orchestra)   \n",
       "3501  Quintet for Horn, Violin, 2 Violas, and Cello ...   \n",
       "3502                                      Koyaanisqatsi   \n",
       "\n",
       "                     Composer  Milliseconds    Bytes  UnitPrice       Genre  \\\n",
       "3498                     None        286741  4718950       0.99   Classical   \n",
       "3499           Franz Schubert        139200  2283131       0.99   Classical   \n",
       "3500       Claudio Monteverdi         66639  1189062       0.99   Classical   \n",
       "3501  Wolfgang Amadeus Mozart        221331  3665114       0.99   Classical   \n",
       "3502             Philip Glass        206005  3305164       0.99  Soundtrack   \n",
       "\n",
       "                                                  Album  \\\n",
       "3498                             Respighi:Pines of Rome   \n",
       "3499  Schubert: The Late String Quartets & String Qu...   \n",
       "3500                                Monteverdi: L'Orfeo   \n",
       "3501                              Mozart: Chamber Music   \n",
       "3502  Koyaanisqatsi (Soundtrack from the Motion Pict...   \n",
       "\n",
       "                                                 Artist  \n",
       "3498                                     Eugene Ormandy  \n",
       "3499                             Emerson String Quartet  \n",
       "3500  C. Monteverdi, Nigel Rogers - Chiaroscuro; Lon...  \n",
       "3501                                      Nash Ensemble  \n",
       "3502                              Philip Glass Ensemble  "
      ]
     },
     "execution_count": 2,
     "metadata": {},
     "output_type": "execute_result"
    }
   ],
   "source": [
    "csv_file = pd.read_csv(r\"C:\\Users\\David gathara marigi\\Downloads\\itunes_data.csv\")\n",
    "xlsx_file = pd.read_excel(r\"C:\\Users\\David gathara marigi\\Downloads\\itunes_data.xlsx\", engine ='openpyxl')\n",
    "engine = create_engine(r\"sqlite:///C:\\Users\\David gathara marigi\\Downloads\\chinook.db\")\n",
    "query = \"\"\"SELECT tracks.name as Track, \n",
    "tracks.composer, \n",
    "tracks.milliseconds,\n",
    "tracks.bytes, \n",
    "tracks.unitprice,\n",
    "genres.name as Genre,\n",
    "albums.title as Album,\n",
    "artists.name as Artist\n",
    "FROM tracks\n",
    "JOIN genres ON tracks.genreid = genres.genreid\n",
    "JOIN albums ON tracks.albumid = albums.albumid\n",
    "JOIN artists ON albums.artistid = artists.artistid;\n",
    "\"\"\"\n",
    "with engine.connect() as connection:\n",
    "    sql_df = pd.read_sql_query(query, connection)\n",
    "i_tunes = pd.concat([csv_file, xlsx_file, sql_df]) \n",
    "i_tunes.tail()\n"
   ]
  },
  {
   "cell_type": "code",
   "execution_count": 3,
   "metadata": {},
   "outputs": [
    {
     "name": "stdout",
     "output_type": "stream",
     "text": [
      "Track           All the Best Cowboys Have Daddy Issues\n",
      "Composer                                           NaN\n",
      "Milliseconds                                   2555492\n",
      "Bytes                                        211743651\n",
      "UnitPrice                                         1.99\n",
      "Genre                                         TV Shows\n",
      "Album                                   Lost, Season 1\n",
      "Artist                                            Lost\n",
      "Name: 0, dtype: object\n",
      "Track                                               Koyaanisqatsi\n",
      "Composer                                             Philip Glass\n",
      "Milliseconds                                               206005\n",
      "Bytes                                                     3305164\n",
      "UnitPrice                                                    0.99\n",
      "Genre                                                  Soundtrack\n",
      "Album           Koyaanisqatsi (Soundtrack from the Motion Pict...\n",
      "Artist                                      Philip Glass Ensemble\n",
      "Name: 3502, dtype: object\n"
     ]
    }
   ],
   "source": [
    "print(i_tunes.iloc[0])\n",
    "print(i_tunes.iloc[-1])"
   ]
  },
  {
   "cell_type": "code",
   "execution_count": 4,
   "metadata": {},
   "outputs": [
    {
     "name": "stdout",
     "output_type": "stream",
     "text": [
      "All the Best Cowboys Have Daddy Issues\n",
      "Philip Glass Ensemble\n"
     ]
    }
   ],
   "source": [
    "print(i_tunes.iloc[0, 0])\n",
    "print(i_tunes.iloc[-1, -1])"
   ]
  },
  {
   "cell_type": "code",
   "execution_count": 5,
   "metadata": {},
   "outputs": [
    {
     "name": "stdout",
     "output_type": "stream",
     "text": [
      "Track                                               Koyaanisqatsi\n",
      "Composer                                             Philip Glass\n",
      "Milliseconds                                               206005\n",
      "Bytes                                                     3305164\n",
      "UnitPrice                                                    0.99\n",
      "Genre                                                  Soundtrack\n",
      "Album           Koyaanisqatsi (Soundtrack from the Motion Pict...\n",
      "Artist                                      Philip Glass Ensemble\n",
      "Name: 3502, dtype: object\n"
     ]
    }
   ],
   "source": [
    "print(i_tunes.loc[3502])"
   ]
  },
  {
   "cell_type": "code",
   "execution_count": 6,
   "metadata": {},
   "outputs": [
    {
     "data": {
      "text/html": [
       "<div>\n",
       "<style scoped>\n",
       "    .dataframe tbody tr th:only-of-type {\n",
       "        vertical-align: middle;\n",
       "    }\n",
       "\n",
       "    .dataframe tbody tr th {\n",
       "        vertical-align: top;\n",
       "    }\n",
       "\n",
       "    .dataframe thead th {\n",
       "        text-align: right;\n",
       "    }\n",
       "</style>\n",
       "<table border=\"1\" class=\"dataframe\">\n",
       "  <thead>\n",
       "    <tr style=\"text-align: right;\">\n",
       "      <th></th>\n",
       "      <th>Track</th>\n",
       "      <th>Composer</th>\n",
       "      <th>Milliseconds</th>\n",
       "      <th>Bytes</th>\n",
       "      <th>UnitPrice</th>\n",
       "      <th>Genre</th>\n",
       "      <th>Album</th>\n",
       "      <th>Artist</th>\n",
       "    </tr>\n",
       "  </thead>\n",
       "  <tbody>\n",
       "    <tr>\n",
       "      <th>3502</th>\n",
       "      <td>Koyaanisqatsi</td>\n",
       "      <td>Philip Glass</td>\n",
       "      <td>206005</td>\n",
       "      <td>3305164</td>\n",
       "      <td>0.99</td>\n",
       "      <td>Soundtrack</td>\n",
       "      <td>Koyaanisqatsi (Soundtrack from the Motion Pict...</td>\n",
       "      <td>Philip Glass Ensemble</td>\n",
       "    </tr>\n",
       "    <tr>\n",
       "      <th>3502</th>\n",
       "      <td>Koyaanisqatsi</td>\n",
       "      <td>Philip Glass</td>\n",
       "      <td>206005</td>\n",
       "      <td>3305164</td>\n",
       "      <td>0.99</td>\n",
       "      <td>Soundtrack</td>\n",
       "      <td>Koyaanisqatsi (Soundtrack from the Motion Pict...</td>\n",
       "      <td>Philip Glass Ensemble</td>\n",
       "    </tr>\n",
       "  </tbody>\n",
       "</table>\n",
       "</div>"
      ],
      "text/plain": [
       "              Track      Composer  Milliseconds    Bytes  UnitPrice  \\\n",
       "3502  Koyaanisqatsi  Philip Glass        206005  3305164       0.99   \n",
       "3502  Koyaanisqatsi  Philip Glass        206005  3305164       0.99   \n",
       "\n",
       "           Genre                                              Album  \\\n",
       "3502  Soundtrack  Koyaanisqatsi (Soundtrack from the Motion Pict...   \n",
       "3502  Soundtrack  Koyaanisqatsi (Soundtrack from the Motion Pict...   \n",
       "\n",
       "                     Artist  \n",
       "3502  Philip Glass Ensemble  \n",
       "3502  Philip Glass Ensemble  "
      ]
     },
     "execution_count": 6,
     "metadata": {},
     "output_type": "execute_result"
    }
   ],
   "source": [
    "test_df = i_tunes.copy()\n",
    "test_df = pd.concat([test_df, pd.DataFrame([i_tunes.loc[3502]])])\n",
    "test_df.loc[3502]"
   ]
  },
  {
   "cell_type": "code",
   "execution_count": 7,
   "metadata": {},
   "outputs": [
    {
     "name": "stdout",
     "output_type": "stream",
     "text": [
      "                                                  Track  \\\n",
      "0                All the Best Cowboys Have Daddy Issues   \n",
      "1                                             Beira Mar   \n",
      "2                                                Brasil   \n",
      "3                                          Ben Franklin   \n",
      "4                          O Último Romântico (Ao Vivo)   \n",
      "...                                                 ...   \n",
      "4017  String Quartet No. 12 in C Minor, D. 703 \"Quar...   \n",
      "4018               L'orfeo, Act 3, Sinfonia (Orchestra)   \n",
      "4019  Quintet for Horn, Violin, 2 Violas, and Cello ...   \n",
      "4020                                      Koyaanisqatsi   \n",
      "4021                                      Koyaanisqatsi   \n",
      "\n",
      "                               Composer  Milliseconds      Bytes  UnitPrice  \\\n",
      "0                                   NaN       2555492  211743651       1.99   \n",
      "1                          Gilberto Gil        295444    9597994       0.99   \n",
      "2     Milton Nascimento, Fernando Brant        155428    5252560       0.99   \n",
      "3                                   NaN       1271938  264168080       1.99   \n",
      "4                                   NaN        231993    7692697       0.99   \n",
      "...                                 ...           ...        ...        ...   \n",
      "4017                     Franz Schubert        139200    2283131       0.99   \n",
      "4018                 Claudio Monteverdi         66639    1189062       0.99   \n",
      "4019            Wolfgang Amadeus Mozart        221331    3665114       0.99   \n",
      "4020                       Philip Glass        206005    3305164       0.99   \n",
      "4021                       Philip Glass        206005    3305164       0.99   \n",
      "\n",
      "           Genre                                              Album  \\\n",
      "0       TV Shows                                     Lost, Season 1   \n",
      "1          Latin                                          Unplugged   \n",
      "2          Latin                          Milton Nascimento Ao Vivo   \n",
      "3         Comedy                               The Office, Season 3   \n",
      "4          Latin    Lulu Santos - RCA 100 Anos De Música - Álbum 02   \n",
      "...          ...                                                ...   \n",
      "4017   Classical  Schubert: The Late String Quartets & String Qu...   \n",
      "4018   Classical                                Monteverdi: L'Orfeo   \n",
      "4019   Classical                              Mozart: Chamber Music   \n",
      "4020  Soundtrack  Koyaanisqatsi (Soundtrack from the Motion Pict...   \n",
      "4021  Soundtrack  Koyaanisqatsi (Soundtrack from the Motion Pict...   \n",
      "\n",
      "                                                 Artist  \n",
      "0                                                  Lost  \n",
      "1                                          Eric Clapton  \n",
      "2                                     Milton Nascimento  \n",
      "3                                            The Office  \n",
      "4                                           Lulu Santos  \n",
      "...                                                 ...  \n",
      "4017                             Emerson String Quartet  \n",
      "4018  C. Monteverdi, Nigel Rogers - Chiaroscuro; Lon...  \n",
      "4019                                      Nash Ensemble  \n",
      "4020                              Philip Glass Ensemble  \n",
      "4021                              Philip Glass Ensemble  \n",
      "\n",
      "[4022 rows x 8 columns]\n"
     ]
    }
   ],
   "source": [
    "test_df.reset_index(inplace=True, drop=True)\n",
    "print(test_df)\n"
   ]
  },
  {
   "cell_type": "code",
   "execution_count": 8,
   "metadata": {},
   "outputs": [
    {
     "data": {
      "text/plain": [
       "0       2555492\n",
       "1        295444\n",
       "2        155428\n",
       "3       1271938\n",
       "4        231993\n",
       "         ...   \n",
       "3498     286741\n",
       "3499     139200\n",
       "3500      66639\n",
       "3501     221331\n",
       "3502     206005\n",
       "Name: Milliseconds, Length: 4021, dtype: int64"
      ]
     },
     "execution_count": 8,
     "metadata": {},
     "output_type": "execute_result"
    }
   ],
   "source": [
    "i_tunes['Milliseconds']"
   ]
  },
  {
   "cell_type": "code",
   "execution_count": 9,
   "metadata": {},
   "outputs": [
    {
     "data": {
      "text/html": [
       "<div>\n",
       "<style scoped>\n",
       "    .dataframe tbody tr th:only-of-type {\n",
       "        vertical-align: middle;\n",
       "    }\n",
       "\n",
       "    .dataframe tbody tr th {\n",
       "        vertical-align: top;\n",
       "    }\n",
       "\n",
       "    .dataframe thead th {\n",
       "        text-align: right;\n",
       "    }\n",
       "</style>\n",
       "<table border=\"1\" class=\"dataframe\">\n",
       "  <thead>\n",
       "    <tr style=\"text-align: right;\">\n",
       "      <th></th>\n",
       "      <th>Milliseconds</th>\n",
       "      <th>Bytes</th>\n",
       "      <th>Genre</th>\n",
       "    </tr>\n",
       "  </thead>\n",
       "  <tbody>\n",
       "    <tr>\n",
       "      <th>0</th>\n",
       "      <td>2555492</td>\n",
       "      <td>211743651</td>\n",
       "      <td>TV Shows</td>\n",
       "    </tr>\n",
       "    <tr>\n",
       "      <th>1</th>\n",
       "      <td>295444</td>\n",
       "      <td>9597994</td>\n",
       "      <td>Latin</td>\n",
       "    </tr>\n",
       "    <tr>\n",
       "      <th>2</th>\n",
       "      <td>155428</td>\n",
       "      <td>5252560</td>\n",
       "      <td>Latin</td>\n",
       "    </tr>\n",
       "    <tr>\n",
       "      <th>3</th>\n",
       "      <td>1271938</td>\n",
       "      <td>264168080</td>\n",
       "      <td>Comedy</td>\n",
       "    </tr>\n",
       "    <tr>\n",
       "      <th>4</th>\n",
       "      <td>231993</td>\n",
       "      <td>7692697</td>\n",
       "      <td>Latin</td>\n",
       "    </tr>\n",
       "    <tr>\n",
       "      <th>...</th>\n",
       "      <td>...</td>\n",
       "      <td>...</td>\n",
       "      <td>...</td>\n",
       "    </tr>\n",
       "    <tr>\n",
       "      <th>3498</th>\n",
       "      <td>286741</td>\n",
       "      <td>4718950</td>\n",
       "      <td>Classical</td>\n",
       "    </tr>\n",
       "    <tr>\n",
       "      <th>3499</th>\n",
       "      <td>139200</td>\n",
       "      <td>2283131</td>\n",
       "      <td>Classical</td>\n",
       "    </tr>\n",
       "    <tr>\n",
       "      <th>3500</th>\n",
       "      <td>66639</td>\n",
       "      <td>1189062</td>\n",
       "      <td>Classical</td>\n",
       "    </tr>\n",
       "    <tr>\n",
       "      <th>3501</th>\n",
       "      <td>221331</td>\n",
       "      <td>3665114</td>\n",
       "      <td>Classical</td>\n",
       "    </tr>\n",
       "    <tr>\n",
       "      <th>3502</th>\n",
       "      <td>206005</td>\n",
       "      <td>3305164</td>\n",
       "      <td>Soundtrack</td>\n",
       "    </tr>\n",
       "  </tbody>\n",
       "</table>\n",
       "<p>4021 rows × 3 columns</p>\n",
       "</div>"
      ],
      "text/plain": [
       "      Milliseconds      Bytes       Genre\n",
       "0          2555492  211743651    TV Shows\n",
       "1           295444    9597994       Latin\n",
       "2           155428    5252560       Latin\n",
       "3          1271938  264168080      Comedy\n",
       "4           231993    7692697       Latin\n",
       "...            ...        ...         ...\n",
       "3498        286741    4718950   Classical\n",
       "3499        139200    2283131   Classical\n",
       "3500         66639    1189062   Classical\n",
       "3501        221331    3665114   Classical\n",
       "3502        206005    3305164  Soundtrack\n",
       "\n",
       "[4021 rows x 3 columns]"
      ]
     },
     "execution_count": 9,
     "metadata": {},
     "output_type": "execute_result"
    }
   ],
   "source": [
    "i_tunes[['Milliseconds', 'Bytes', 'Genre']]"
   ]
  },
  {
   "cell_type": "markdown",
   "metadata": {},
   "source": [
    "                      Examining the data's dimensions, datatypes, and missing values"
   ]
  },
  {
   "cell_type": "code",
   "execution_count": 10,
   "metadata": {},
   "outputs": [
    {
     "name": "stdout",
     "output_type": "stream",
     "text": [
      "(4021, 8)\n"
     ]
    }
   ],
   "source": [
    "print(i_tunes.shape)"
   ]
  },
  {
   "cell_type": "code",
   "execution_count": 11,
   "metadata": {},
   "outputs": [
    {
     "name": "stdout",
     "output_type": "stream",
     "text": [
      "<class 'pandas.core.frame.DataFrame'>\n",
      "Index: 4021 entries, 0 to 3502\n",
      "Data columns (total 8 columns):\n",
      " #   Column        Non-Null Count  Dtype  \n",
      "---  ------        --------------  -----  \n",
      " 0   Track         4021 non-null   object \n",
      " 1   Composer      2908 non-null   object \n",
      " 2   Milliseconds  4021 non-null   int64  \n",
      " 3   Bytes         4021 non-null   int64  \n",
      " 4   UnitPrice     4021 non-null   float64\n",
      " 5   Genre         4021 non-null   object \n",
      " 6   Album         4021 non-null   object \n",
      " 7   Artist        4021 non-null   object \n",
      "dtypes: float64(1), int64(2), object(5)\n",
      "memory usage: 411.8+ KB\n"
     ]
    }
   ],
   "source": [
    "i_tunes.info()"
   ]
  },
  {
   "cell_type": "code",
   "execution_count": 12,
   "metadata": {},
   "outputs": [
    {
     "data": {
      "text/plain": [
       "Track              0\n",
       "Composer        1113\n",
       "Milliseconds       0\n",
       "Bytes              0\n",
       "UnitPrice          0\n",
       "Genre              0\n",
       "Album              0\n",
       "Artist             0\n",
       "dtype: int64"
      ]
     },
     "execution_count": 12,
     "metadata": {},
     "output_type": "execute_result"
    }
   ],
   "source": [
    "i_tunes.isna().sum()    "
   ]
  },
  {
   "cell_type": "markdown",
   "metadata": {},
   "source": [
    "                                 Investigating statistical properties of the data"
   ]
  },
  {
   "cell_type": "code",
   "execution_count": 13,
   "metadata": {},
   "outputs": [
    {
     "data": {
      "text/html": [
       "<div>\n",
       "<style scoped>\n",
       "    .dataframe tbody tr th:only-of-type {\n",
       "        vertical-align: middle;\n",
       "    }\n",
       "\n",
       "    .dataframe tbody tr th {\n",
       "        vertical-align: top;\n",
       "    }\n",
       "\n",
       "    .dataframe thead th {\n",
       "        text-align: right;\n",
       "    }\n",
       "</style>\n",
       "<table border=\"1\" class=\"dataframe\">\n",
       "  <thead>\n",
       "    <tr style=\"text-align: right;\">\n",
       "      <th></th>\n",
       "      <th>Milliseconds</th>\n",
       "      <th>Bytes</th>\n",
       "      <th>UnitPrice</th>\n",
       "    </tr>\n",
       "  </thead>\n",
       "  <tbody>\n",
       "    <tr>\n",
       "      <th>count</th>\n",
       "      <td>4.021000e+03</td>\n",
       "      <td>4.021000e+03</td>\n",
       "      <td>4021.000000</td>\n",
       "    </tr>\n",
       "    <tr>\n",
       "      <th>mean</th>\n",
       "      <td>3.927276e+05</td>\n",
       "      <td>3.311048e+07</td>\n",
       "      <td>1.050184</td>\n",
       "    </tr>\n",
       "    <tr>\n",
       "      <th>std</th>\n",
       "      <td>5.337745e+05</td>\n",
       "      <td>1.042268e+08</td>\n",
       "      <td>0.237857</td>\n",
       "    </tr>\n",
       "    <tr>\n",
       "      <th>min</th>\n",
       "      <td>1.071000e+03</td>\n",
       "      <td>3.874700e+04</td>\n",
       "      <td>0.990000</td>\n",
       "    </tr>\n",
       "    <tr>\n",
       "      <th>25%</th>\n",
       "      <td>2.069680e+05</td>\n",
       "      <td>6.372433e+06</td>\n",
       "      <td>0.990000</td>\n",
       "    </tr>\n",
       "    <tr>\n",
       "      <th>50%</th>\n",
       "      <td>2.554770e+05</td>\n",
       "      <td>8.102839e+06</td>\n",
       "      <td>0.990000</td>\n",
       "    </tr>\n",
       "    <tr>\n",
       "      <th>75%</th>\n",
       "      <td>3.217240e+05</td>\n",
       "      <td>1.025143e+07</td>\n",
       "      <td>0.990000</td>\n",
       "    </tr>\n",
       "    <tr>\n",
       "      <th>max</th>\n",
       "      <td>5.286953e+06</td>\n",
       "      <td>1.059546e+09</td>\n",
       "      <td>1.990000</td>\n",
       "    </tr>\n",
       "  </tbody>\n",
       "</table>\n",
       "</div>"
      ],
      "text/plain": [
       "       Milliseconds         Bytes    UnitPrice\n",
       "count  4.021000e+03  4.021000e+03  4021.000000\n",
       "mean   3.927276e+05  3.311048e+07     1.050184\n",
       "std    5.337745e+05  1.042268e+08     0.237857\n",
       "min    1.071000e+03  3.874700e+04     0.990000\n",
       "25%    2.069680e+05  6.372433e+06     0.990000\n",
       "50%    2.554770e+05  8.102839e+06     0.990000\n",
       "75%    3.217240e+05  1.025143e+07     0.990000\n",
       "max    5.286953e+06  1.059546e+09     1.990000"
      ]
     },
     "execution_count": 13,
     "metadata": {},
     "output_type": "execute_result"
    }
   ],
   "source": [
    "i_tunes.describe()"
   ]
  },
  {
   "cell_type": "code",
   "execution_count": 14,
   "metadata": {},
   "outputs": [
    {
     "data": {
      "text/plain": [
       "0    Rock\n",
       "Name: Genre, dtype: object"
      ]
     },
     "execution_count": 14,
     "metadata": {},
     "output_type": "execute_result"
    }
   ],
   "source": [
    "i_tunes['Genre'].mode()"
   ]
  },
  {
   "cell_type": "code",
   "execution_count": 15,
   "metadata": {},
   "outputs": [
    {
     "data": {
      "text/plain": [
       "Genre\n",
       "Rock                  1498\n",
       "Latin                  656\n",
       "Metal                  420\n",
       "Alternative & Punk     393\n",
       "Jazz                   160\n",
       "TV Shows               105\n",
       "Blues                   92\n",
       "Classical               85\n",
       "Drama                   71\n",
       "R&B/Soul                69\n",
       "Reggae                  64\n",
       "Pop                     51\n",
       "Soundtrack              50\n",
       "Alternative             45\n",
       "Hip Hop/Rap             40\n",
       "Electronica/Dance       35\n",
       "World                   32\n",
       "Heavy Metal             31\n",
       "Sci Fi & Fantasy        31\n",
       "Easy Listening          28\n",
       "Comedy                  20\n",
       "Bossa Nova              17\n",
       "Science Fiction         15\n",
       "Rock And Roll           12\n",
       "Opera                    1\n",
       "Name: count, dtype: int64"
      ]
     },
     "execution_count": 15,
     "metadata": {},
     "output_type": "execute_result"
    }
   ],
   "source": [
    "i_tunes['Genre'].value_counts()"
   ]
  },
  {
   "cell_type": "code",
   "execution_count": 16,
   "metadata": {},
   "outputs": [
    {
     "data": {
      "text/plain": [
       "Genre\n",
       "Rock                  1498\n",
       "Latin                  656\n",
       "Metal                  420\n",
       "Alternative & Punk     393\n",
       "Jazz                   160\n",
       "Name: count, dtype: int64"
      ]
     },
     "execution_count": 16,
     "metadata": {},
     "output_type": "execute_result"
    }
   ],
   "source": [
    "i_tunes['Genre'].value_counts().head(5)"
   ]
  },
  {
   "cell_type": "code",
   "execution_count": 17,
   "metadata": {},
   "outputs": [
    {
     "data": {
      "text/plain": [
       "Genre\n",
       "Rock                  1498\n",
       "Latin                  656\n",
       "Metal                  420\n",
       "Alternative & Punk     393\n",
       "Jazz                   160\n",
       "Name: count, dtype: int64"
      ]
     },
     "execution_count": 17,
     "metadata": {},
     "output_type": "execute_result"
    }
   ],
   "source": [
    "i_tunes['Genre'].value_counts()[:5]"
   ]
  },
  {
   "cell_type": "code",
   "execution_count": 18,
   "metadata": {},
   "outputs": [
    {
     "data": {
      "text/plain": [
       "(204,)"
      ]
     },
     "execution_count": 18,
     "metadata": {},
     "output_type": "execute_result"
    }
   ],
   "source": [
    "i_tunes['Artist'].unique().shape\n"
   ]
  },
  {
   "cell_type": "code",
   "execution_count": 19,
   "metadata": {},
   "outputs": [
    {
     "data": {
      "text/html": [
       "<div>\n",
       "<style scoped>\n",
       "    .dataframe tbody tr th:only-of-type {\n",
       "        vertical-align: middle;\n",
       "    }\n",
       "\n",
       "    .dataframe tbody tr th {\n",
       "        vertical-align: top;\n",
       "    }\n",
       "\n",
       "    .dataframe thead th {\n",
       "        text-align: right;\n",
       "    }\n",
       "</style>\n",
       "<table border=\"1\" class=\"dataframe\">\n",
       "  <thead>\n",
       "    <tr style=\"text-align: right;\">\n",
       "      <th></th>\n",
       "      <th>Milliseconds</th>\n",
       "      <th>Bytes</th>\n",
       "      <th>UnitPrice</th>\n",
       "    </tr>\n",
       "  </thead>\n",
       "  <tbody>\n",
       "    <tr>\n",
       "      <th>Milliseconds</th>\n",
       "      <td>1.000000</td>\n",
       "      <td>0.957791</td>\n",
       "      <td>0.934829</td>\n",
       "    </tr>\n",
       "    <tr>\n",
       "      <th>Bytes</th>\n",
       "      <td>0.957791</td>\n",
       "      <td>1.000000</td>\n",
       "      <td>0.938734</td>\n",
       "    </tr>\n",
       "    <tr>\n",
       "      <th>UnitPrice</th>\n",
       "      <td>0.934829</td>\n",
       "      <td>0.938734</td>\n",
       "      <td>1.000000</td>\n",
       "    </tr>\n",
       "  </tbody>\n",
       "</table>\n",
       "</div>"
      ],
      "text/plain": [
       "              Milliseconds     Bytes  UnitPrice\n",
       "Milliseconds      1.000000  0.957791   0.934829\n",
       "Bytes             0.957791  1.000000   0.938734\n",
       "UnitPrice         0.934829  0.938734   1.000000"
      ]
     },
     "execution_count": 19,
     "metadata": {},
     "output_type": "execute_result"
    }
   ],
   "source": [
    "i_tunes.select_dtypes(include=\"number\").corr()"
   ]
  },
  {
   "cell_type": "markdown",
   "metadata": {},
   "source": [
    "                             Plotting with DataFrames"
   ]
  },
  {
   "cell_type": "code",
   "execution_count": 20,
   "metadata": {},
   "outputs": [],
   "source": [
    "import matplotlib.pyplot as plt\n"
   ]
  },
  {
   "cell_type": "code",
   "execution_count": 21,
   "metadata": {},
   "outputs": [
    {
     "data": {
      "image/png": "[encoded data removed]",
      "text/plain": [
       "<Figure size 640x480 with 1 Axes>"
      ]
     },
     "metadata": {},
     "output_type": "display_data"
    }
   ],
   "source": [
    "i_tunes['Milliseconds'].hist(bins=30)\n",
    "plt.show()"
   ]
  },
  {
   "cell_type": "code",
   "execution_count": 22,
   "metadata": {},
   "outputs": [
    {
     "data": {
      "image/png": "[encoded data removed]",
      "text/plain": [
       "<Figure size 640x480 with 1 Axes>"
      ]
     },
     "metadata": {},
     "output_type": "display_data"
    }
   ],
   "source": [
    "i_tunes.plot.scatter(x='Milliseconds', y='Bytes')\n",
    "plt.show()"
   ]
  },
  {
   "cell_type": "code",
   "execution_count": 23,
   "metadata": {},
   "outputs": [
    {
     "data": {
      "image/png": "[encoded data removed]",
      "text/plain": [
       "<Figure size 640x480 with 1 Axes>"
      ]
     },
     "metadata": {},
     "output_type": "display_data"
    }
   ],
   "source": [
    "i_tunes['Genre'].value_counts().plot.bar()\n",
    "plt.show()\n"
   ]
  },
  {
   "cell_type": "markdown",
   "metadata": {},
   "source": [
    "                                             cleaning data"
   ]
  },
  {
   "cell_type": "markdown",
   "metadata": {},
   "source": [
    "Some common data cleaning steps include:\n",
    ". Removing irrelevant data\n",
    ". Dealing with missing values (filling in or dropping them)\n",
    ". Dealing with outliers\n",
    ". Dealing with duplicate values\n",
    ". Ensuring datatypes are correct\n",
    ". Standardizing data formats (e.g. mismatched capitalization, converting units)"
   ]
  },
  {
   "cell_type": "markdown",
   "metadata": {},
   "source": [
    "                                       Filtering DataFrame"
   ]
  },
  {
   "cell_type": "code",
   "execution_count": 24,
   "metadata": {},
   "outputs": [
    {
     "data": {
      "text/html": [
       "<div>\n",
       "<style scoped>\n",
       "    .dataframe tbody tr th:only-of-type {\n",
       "        vertical-align: middle;\n",
       "    }\n",
       "\n",
       "    .dataframe tbody tr th {\n",
       "        vertical-align: top;\n",
       "    }\n",
       "\n",
       "    .dataframe thead th {\n",
       "        text-align: right;\n",
       "    }\n",
       "</style>\n",
       "<table border=\"1\" class=\"dataframe\">\n",
       "  <thead>\n",
       "    <tr style=\"text-align: right;\">\n",
       "      <th></th>\n",
       "      <th>Track</th>\n",
       "      <th>Composer</th>\n",
       "      <th>Milliseconds</th>\n",
       "      <th>Bytes</th>\n",
       "      <th>UnitPrice</th>\n",
       "      <th>Genre</th>\n",
       "      <th>Album</th>\n",
       "      <th>Artist</th>\n",
       "    </tr>\n",
       "  </thead>\n",
       "  <tbody>\n",
       "    <tr>\n",
       "      <th>2833</th>\n",
       "      <td>Occupation / Precipice</td>\n",
       "      <td>None</td>\n",
       "      <td>5286953</td>\n",
       "      <td>1054423946</td>\n",
       "      <td>1.99</td>\n",
       "      <td>TV Shows</td>\n",
       "      <td>Battlestar Galactica, Season 3</td>\n",
       "      <td>Battlestar Galactica</td>\n",
       "    </tr>\n",
       "    <tr>\n",
       "      <th>2898</th>\n",
       "      <td>Through a Looking Glass</td>\n",
       "      <td>None</td>\n",
       "      <td>5088838</td>\n",
       "      <td>1059546140</td>\n",
       "      <td>1.99</td>\n",
       "      <td>Drama</td>\n",
       "      <td>Lost, Season 3</td>\n",
       "      <td>Lost</td>\n",
       "    </tr>\n",
       "  </tbody>\n",
       "</table>\n",
       "</div>"
      ],
      "text/plain": [
       "                        Track Composer  Milliseconds       Bytes  UnitPrice  \\\n",
       "2833   Occupation / Precipice     None       5286953  1054423946       1.99   \n",
       "2898  Through a Looking Glass     None       5088838  1059546140       1.99   \n",
       "\n",
       "         Genre                           Album                Artist  \n",
       "2833  TV Shows  Battlestar Galactica, Season 3  Battlestar Galactica  \n",
       "2898     Drama                  Lost, Season 3                  Lost  "
      ]
     },
     "execution_count": 24,
     "metadata": {},
     "output_type": "execute_result"
    }
   ],
   "source": [
    "i_tunes[i_tunes['Milliseconds'] > 4e6]"
   ]
  },
  {
   "cell_type": "code",
   "execution_count": 25,
   "metadata": {},
   "outputs": [
    {
     "data": {
      "text/plain": [
       "0       False\n",
       "1       False\n",
       "2       False\n",
       "3       False\n",
       "4       False\n",
       "        ...  \n",
       "3498    False\n",
       "3499    False\n",
       "3500    False\n",
       "3501    False\n",
       "3502    False\n",
       "Name: Milliseconds, Length: 4021, dtype: bool"
      ]
     },
     "execution_count": 25,
     "metadata": {},
     "output_type": "execute_result"
    }
   ],
   "source": [
    "i_tunes['Milliseconds'] > 4e6"
   ]
  },
  {
   "cell_type": "code",
   "execution_count": 26,
   "metadata": {},
   "outputs": [
    {
     "data": {
      "text/plain": [
       "Genre\n",
       "Drama               69\n",
       "TV Shows            67\n",
       "Sci Fi & Fantasy    31\n",
       "Science Fiction     15\n",
       "Comedy               2\n",
       "Name: count, dtype: int64"
      ]
     },
     "execution_count": 26,
     "metadata": {},
     "output_type": "execute_result"
    }
   ],
   "source": [
    "i_tunes[i_tunes['Milliseconds'] > 2e6]['Genre'].value_counts()"
   ]
  },
  {
   "cell_type": "code",
   "execution_count": 27,
   "metadata": {},
   "outputs": [
    {
     "data": {
      "text/plain": [
       "Genre\n",
       "TV Shows    32\n",
       "Name: count, dtype: int64"
      ]
     },
     "execution_count": 27,
     "metadata": {},
     "output_type": "execute_result"
    }
   ],
   "source": [
    "i_tunes[(i_tunes['Milliseconds'] > 2e6) & (i_tunes['Bytes'] < 0.4e9)]['Genre'].value_counts()\n"
   ]
  },
  {
   "cell_type": "code",
   "execution_count": 28,
   "metadata": {},
   "outputs": [
    {
     "data": {
      "text/html": [
       "<div>\n",
       "<style scoped>\n",
       "    .dataframe tbody tr th:only-of-type {\n",
       "        vertical-align: middle;\n",
       "    }\n",
       "\n",
       "    .dataframe tbody tr th {\n",
       "        vertical-align: top;\n",
       "    }\n",
       "\n",
       "    .dataframe thead th {\n",
       "        text-align: right;\n",
       "    }\n",
       "</style>\n",
       "<table border=\"1\" class=\"dataframe\">\n",
       "  <thead>\n",
       "    <tr style=\"text-align: right;\">\n",
       "      <th></th>\n",
       "      <th>Track</th>\n",
       "      <th>Composer</th>\n",
       "      <th>Milliseconds</th>\n",
       "      <th>Bytes</th>\n",
       "      <th>UnitPrice</th>\n",
       "      <th>Genre</th>\n",
       "      <th>Album</th>\n",
       "      <th>Artist</th>\n",
       "    </tr>\n",
       "  </thead>\n",
       "  <tbody>\n",
       "    <tr>\n",
       "      <th>1</th>\n",
       "      <td>Beira Mar</td>\n",
       "      <td>Gilberto Gil</td>\n",
       "      <td>295444</td>\n",
       "      <td>9597994</td>\n",
       "      <td>0.99</td>\n",
       "      <td>Latin</td>\n",
       "      <td>Unplugged</td>\n",
       "      <td>Eric Clapton</td>\n",
       "    </tr>\n",
       "    <tr>\n",
       "      <th>2</th>\n",
       "      <td>Brasil</td>\n",
       "      <td>Milton Nascimento, Fernando Brant</td>\n",
       "      <td>155428</td>\n",
       "      <td>5252560</td>\n",
       "      <td>0.99</td>\n",
       "      <td>Latin</td>\n",
       "      <td>Milton Nascimento Ao Vivo</td>\n",
       "      <td>Milton Nascimento</td>\n",
       "    </tr>\n",
       "    <tr>\n",
       "      <th>3</th>\n",
       "      <td>Ben Franklin</td>\n",
       "      <td>NaN</td>\n",
       "      <td>1271938</td>\n",
       "      <td>264168080</td>\n",
       "      <td>1.99</td>\n",
       "      <td>Comedy</td>\n",
       "      <td>The Office, Season 3</td>\n",
       "      <td>The Office</td>\n",
       "    </tr>\n",
       "    <tr>\n",
       "      <th>4</th>\n",
       "      <td>O Último Romântico (Ao Vivo)</td>\n",
       "      <td>NaN</td>\n",
       "      <td>231993</td>\n",
       "      <td>7692697</td>\n",
       "      <td>0.99</td>\n",
       "      <td>Latin</td>\n",
       "      <td>Lulu Santos - RCA 100 Anos De Música - Álbum 02</td>\n",
       "      <td>Lulu Santos</td>\n",
       "    </tr>\n",
       "    <tr>\n",
       "      <th>5</th>\n",
       "      <td>Freewheel Burning</td>\n",
       "      <td>NaN</td>\n",
       "      <td>265952</td>\n",
       "      <td>8713599</td>\n",
       "      <td>0.99</td>\n",
       "      <td>Metal</td>\n",
       "      <td>Living After Midnight</td>\n",
       "      <td>Judas Priest</td>\n",
       "    </tr>\n",
       "    <tr>\n",
       "      <th>...</th>\n",
       "      <td>...</td>\n",
       "      <td>...</td>\n",
       "      <td>...</td>\n",
       "      <td>...</td>\n",
       "      <td>...</td>\n",
       "      <td>...</td>\n",
       "      <td>...</td>\n",
       "      <td>...</td>\n",
       "    </tr>\n",
       "    <tr>\n",
       "      <th>3498</th>\n",
       "      <td>Pini Di Roma (Pinien Von Rom) \\ I Pini Della V...</td>\n",
       "      <td>None</td>\n",
       "      <td>286741</td>\n",
       "      <td>4718950</td>\n",
       "      <td>0.99</td>\n",
       "      <td>Classical</td>\n",
       "      <td>Respighi:Pines of Rome</td>\n",
       "      <td>Eugene Ormandy</td>\n",
       "    </tr>\n",
       "    <tr>\n",
       "      <th>3499</th>\n",
       "      <td>String Quartet No. 12 in C Minor, D. 703 \"Quar...</td>\n",
       "      <td>Franz Schubert</td>\n",
       "      <td>139200</td>\n",
       "      <td>2283131</td>\n",
       "      <td>0.99</td>\n",
       "      <td>Classical</td>\n",
       "      <td>Schubert: The Late String Quartets &amp; String Qu...</td>\n",
       "      <td>Emerson String Quartet</td>\n",
       "    </tr>\n",
       "    <tr>\n",
       "      <th>3500</th>\n",
       "      <td>L'orfeo, Act 3, Sinfonia (Orchestra)</td>\n",
       "      <td>Claudio Monteverdi</td>\n",
       "      <td>66639</td>\n",
       "      <td>1189062</td>\n",
       "      <td>0.99</td>\n",
       "      <td>Classical</td>\n",
       "      <td>Monteverdi: L'Orfeo</td>\n",
       "      <td>C. Monteverdi, Nigel Rogers - Chiaroscuro; Lon...</td>\n",
       "    </tr>\n",
       "    <tr>\n",
       "      <th>3501</th>\n",
       "      <td>Quintet for Horn, Violin, 2 Violas, and Cello ...</td>\n",
       "      <td>Wolfgang Amadeus Mozart</td>\n",
       "      <td>221331</td>\n",
       "      <td>3665114</td>\n",
       "      <td>0.99</td>\n",
       "      <td>Classical</td>\n",
       "      <td>Mozart: Chamber Music</td>\n",
       "      <td>Nash Ensemble</td>\n",
       "    </tr>\n",
       "    <tr>\n",
       "      <th>3502</th>\n",
       "      <td>Koyaanisqatsi</td>\n",
       "      <td>Philip Glass</td>\n",
       "      <td>206005</td>\n",
       "      <td>3305164</td>\n",
       "      <td>0.99</td>\n",
       "      <td>Soundtrack</td>\n",
       "      <td>Koyaanisqatsi (Soundtrack from the Motion Pict...</td>\n",
       "      <td>Philip Glass Ensemble</td>\n",
       "    </tr>\n",
       "  </tbody>\n",
       "</table>\n",
       "<p>3916 rows × 8 columns</p>\n",
       "</div>"
      ],
      "text/plain": [
       "                                                  Track  \\\n",
       "1                                             Beira Mar   \n",
       "2                                                Brasil   \n",
       "3                                          Ben Franklin   \n",
       "4                          O Último Romântico (Ao Vivo)   \n",
       "5                                     Freewheel Burning   \n",
       "...                                                 ...   \n",
       "3498  Pini Di Roma (Pinien Von Rom) \\ I Pini Della V...   \n",
       "3499  String Quartet No. 12 in C Minor, D. 703 \"Quar...   \n",
       "3500               L'orfeo, Act 3, Sinfonia (Orchestra)   \n",
       "3501  Quintet for Horn, Violin, 2 Violas, and Cello ...   \n",
       "3502                                      Koyaanisqatsi   \n",
       "\n",
       "                               Composer  Milliseconds      Bytes  UnitPrice  \\\n",
       "1                          Gilberto Gil        295444    9597994       0.99   \n",
       "2     Milton Nascimento, Fernando Brant        155428    5252560       0.99   \n",
       "3                                   NaN       1271938  264168080       1.99   \n",
       "4                                   NaN        231993    7692697       0.99   \n",
       "5                                   NaN        265952    8713599       0.99   \n",
       "...                                 ...           ...        ...        ...   \n",
       "3498                               None        286741    4718950       0.99   \n",
       "3499                     Franz Schubert        139200    2283131       0.99   \n",
       "3500                 Claudio Monteverdi         66639    1189062       0.99   \n",
       "3501            Wolfgang Amadeus Mozart        221331    3665114       0.99   \n",
       "3502                       Philip Glass        206005    3305164       0.99   \n",
       "\n",
       "           Genre                                              Album  \\\n",
       "1          Latin                                          Unplugged   \n",
       "2          Latin                          Milton Nascimento Ao Vivo   \n",
       "3         Comedy                               The Office, Season 3   \n",
       "4          Latin    Lulu Santos - RCA 100 Anos De Música - Álbum 02   \n",
       "5          Metal                              Living After Midnight   \n",
       "...          ...                                                ...   \n",
       "3498   Classical                             Respighi:Pines of Rome   \n",
       "3499   Classical  Schubert: The Late String Quartets & String Qu...   \n",
       "3500   Classical                                Monteverdi: L'Orfeo   \n",
       "3501   Classical                              Mozart: Chamber Music   \n",
       "3502  Soundtrack  Koyaanisqatsi (Soundtrack from the Motion Pict...   \n",
       "\n",
       "                                                 Artist  \n",
       "1                                          Eric Clapton  \n",
       "2                                     Milton Nascimento  \n",
       "3                                            The Office  \n",
       "4                                           Lulu Santos  \n",
       "5                                          Judas Priest  \n",
       "...                                                 ...  \n",
       "3498                                     Eugene Ormandy  \n",
       "3499                             Emerson String Quartet  \n",
       "3500  C. Monteverdi, Nigel Rogers - Chiaroscuro; Lon...  \n",
       "3501                                      Nash Ensemble  \n",
       "3502                              Philip Glass Ensemble  \n",
       "\n",
       "[3916 rows x 8 columns]"
      ]
     },
     "execution_count": 28,
     "metadata": {},
     "output_type": "execute_result"
    }
   ],
   "source": [
    "i_tunes[i_tunes['Genre'] != 'TV Shows']"
   ]
  },
  {
   "cell_type": "code",
   "execution_count": 29,
   "metadata": {},
   "outputs": [
    {
     "data": {
      "text/html": [
       "<div>\n",
       "<style scoped>\n",
       "    .dataframe tbody tr th:only-of-type {\n",
       "        vertical-align: middle;\n",
       "    }\n",
       "\n",
       "    .dataframe tbody tr th {\n",
       "        vertical-align: top;\n",
       "    }\n",
       "\n",
       "    .dataframe thead th {\n",
       "        text-align: right;\n",
       "    }\n",
       "</style>\n",
       "<table border=\"1\" class=\"dataframe\">\n",
       "  <thead>\n",
       "    <tr style=\"text-align: right;\">\n",
       "      <th></th>\n",
       "      <th>Track</th>\n",
       "      <th>Composer</th>\n",
       "      <th>Milliseconds</th>\n",
       "      <th>Bytes</th>\n",
       "      <th>UnitPrice</th>\n",
       "      <th>Genre</th>\n",
       "      <th>Album</th>\n",
       "      <th>Artist</th>\n",
       "    </tr>\n",
       "  </thead>\n",
       "  <tbody>\n",
       "    <tr>\n",
       "      <th>1</th>\n",
       "      <td>Beira Mar</td>\n",
       "      <td>Gilberto Gil</td>\n",
       "      <td>295444</td>\n",
       "      <td>9597994</td>\n",
       "      <td>0.99</td>\n",
       "      <td>Latin</td>\n",
       "      <td>Unplugged</td>\n",
       "      <td>Eric Clapton</td>\n",
       "    </tr>\n",
       "    <tr>\n",
       "      <th>2</th>\n",
       "      <td>Brasil</td>\n",
       "      <td>Milton Nascimento, Fernando Brant</td>\n",
       "      <td>155428</td>\n",
       "      <td>5252560</td>\n",
       "      <td>0.99</td>\n",
       "      <td>Latin</td>\n",
       "      <td>Milton Nascimento Ao Vivo</td>\n",
       "      <td>Milton Nascimento</td>\n",
       "    </tr>\n",
       "    <tr>\n",
       "      <th>3</th>\n",
       "      <td>Ben Franklin</td>\n",
       "      <td>NaN</td>\n",
       "      <td>1271938</td>\n",
       "      <td>264168080</td>\n",
       "      <td>1.99</td>\n",
       "      <td>Comedy</td>\n",
       "      <td>The Office, Season 3</td>\n",
       "      <td>The Office</td>\n",
       "    </tr>\n",
       "    <tr>\n",
       "      <th>4</th>\n",
       "      <td>O Último Romântico (Ao Vivo)</td>\n",
       "      <td>NaN</td>\n",
       "      <td>231993</td>\n",
       "      <td>7692697</td>\n",
       "      <td>0.99</td>\n",
       "      <td>Latin</td>\n",
       "      <td>Lulu Santos - RCA 100 Anos De Música - Álbum 02</td>\n",
       "      <td>Lulu Santos</td>\n",
       "    </tr>\n",
       "    <tr>\n",
       "      <th>5</th>\n",
       "      <td>Freewheel Burning</td>\n",
       "      <td>NaN</td>\n",
       "      <td>265952</td>\n",
       "      <td>8713599</td>\n",
       "      <td>0.99</td>\n",
       "      <td>Metal</td>\n",
       "      <td>Living After Midnight</td>\n",
       "      <td>Judas Priest</td>\n",
       "    </tr>\n",
       "    <tr>\n",
       "      <th>...</th>\n",
       "      <td>...</td>\n",
       "      <td>...</td>\n",
       "      <td>...</td>\n",
       "      <td>...</td>\n",
       "      <td>...</td>\n",
       "      <td>...</td>\n",
       "      <td>...</td>\n",
       "      <td>...</td>\n",
       "    </tr>\n",
       "    <tr>\n",
       "      <th>3498</th>\n",
       "      <td>Pini Di Roma (Pinien Von Rom) \\ I Pini Della V...</td>\n",
       "      <td>None</td>\n",
       "      <td>286741</td>\n",
       "      <td>4718950</td>\n",
       "      <td>0.99</td>\n",
       "      <td>Classical</td>\n",
       "      <td>Respighi:Pines of Rome</td>\n",
       "      <td>Eugene Ormandy</td>\n",
       "    </tr>\n",
       "    <tr>\n",
       "      <th>3499</th>\n",
       "      <td>String Quartet No. 12 in C Minor, D. 703 \"Quar...</td>\n",
       "      <td>Franz Schubert</td>\n",
       "      <td>139200</td>\n",
       "      <td>2283131</td>\n",
       "      <td>0.99</td>\n",
       "      <td>Classical</td>\n",
       "      <td>Schubert: The Late String Quartets &amp; String Qu...</td>\n",
       "      <td>Emerson String Quartet</td>\n",
       "    </tr>\n",
       "    <tr>\n",
       "      <th>3500</th>\n",
       "      <td>L'orfeo, Act 3, Sinfonia (Orchestra)</td>\n",
       "      <td>Claudio Monteverdi</td>\n",
       "      <td>66639</td>\n",
       "      <td>1189062</td>\n",
       "      <td>0.99</td>\n",
       "      <td>Classical</td>\n",
       "      <td>Monteverdi: L'Orfeo</td>\n",
       "      <td>C. Monteverdi, Nigel Rogers - Chiaroscuro; Lon...</td>\n",
       "    </tr>\n",
       "    <tr>\n",
       "      <th>3501</th>\n",
       "      <td>Quintet for Horn, Violin, 2 Violas, and Cello ...</td>\n",
       "      <td>Wolfgang Amadeus Mozart</td>\n",
       "      <td>221331</td>\n",
       "      <td>3665114</td>\n",
       "      <td>0.99</td>\n",
       "      <td>Classical</td>\n",
       "      <td>Mozart: Chamber Music</td>\n",
       "      <td>Nash Ensemble</td>\n",
       "    </tr>\n",
       "    <tr>\n",
       "      <th>3502</th>\n",
       "      <td>Koyaanisqatsi</td>\n",
       "      <td>Philip Glass</td>\n",
       "      <td>206005</td>\n",
       "      <td>3305164</td>\n",
       "      <td>0.99</td>\n",
       "      <td>Soundtrack</td>\n",
       "      <td>Koyaanisqatsi (Soundtrack from the Motion Pict...</td>\n",
       "      <td>Philip Glass Ensemble</td>\n",
       "    </tr>\n",
       "  </tbody>\n",
       "</table>\n",
       "<p>3916 rows × 8 columns</p>\n",
       "</div>"
      ],
      "text/plain": [
       "                                                  Track  \\\n",
       "1                                             Beira Mar   \n",
       "2                                                Brasil   \n",
       "3                                          Ben Franklin   \n",
       "4                          O Último Romântico (Ao Vivo)   \n",
       "5                                     Freewheel Burning   \n",
       "...                                                 ...   \n",
       "3498  Pini Di Roma (Pinien Von Rom) \\ I Pini Della V...   \n",
       "3499  String Quartet No. 12 in C Minor, D. 703 \"Quar...   \n",
       "3500               L'orfeo, Act 3, Sinfonia (Orchestra)   \n",
       "3501  Quintet for Horn, Violin, 2 Violas, and Cello ...   \n",
       "3502                                      Koyaanisqatsi   \n",
       "\n",
       "                               Composer  Milliseconds      Bytes  UnitPrice  \\\n",
       "1                          Gilberto Gil        295444    9597994       0.99   \n",
       "2     Milton Nascimento, Fernando Brant        155428    5252560       0.99   \n",
       "3                                   NaN       1271938  264168080       1.99   \n",
       "4                                   NaN        231993    7692697       0.99   \n",
       "5                                   NaN        265952    8713599       0.99   \n",
       "...                                 ...           ...        ...        ...   \n",
       "3498                               None        286741    4718950       0.99   \n",
       "3499                     Franz Schubert        139200    2283131       0.99   \n",
       "3500                 Claudio Monteverdi         66639    1189062       0.99   \n",
       "3501            Wolfgang Amadeus Mozart        221331    3665114       0.99   \n",
       "3502                       Philip Glass        206005    3305164       0.99   \n",
       "\n",
       "           Genre                                              Album  \\\n",
       "1          Latin                                          Unplugged   \n",
       "2          Latin                          Milton Nascimento Ao Vivo   \n",
       "3         Comedy                               The Office, Season 3   \n",
       "4          Latin    Lulu Santos - RCA 100 Anos De Música - Álbum 02   \n",
       "5          Metal                              Living After Midnight   \n",
       "...          ...                                                ...   \n",
       "3498   Classical                             Respighi:Pines of Rome   \n",
       "3499   Classical  Schubert: The Late String Quartets & String Qu...   \n",
       "3500   Classical                                Monteverdi: L'Orfeo   \n",
       "3501   Classical                              Mozart: Chamber Music   \n",
       "3502  Soundtrack  Koyaanisqatsi (Soundtrack from the Motion Pict...   \n",
       "\n",
       "                                                 Artist  \n",
       "1                                          Eric Clapton  \n",
       "2                                     Milton Nascimento  \n",
       "3                                            The Office  \n",
       "4                                           Lulu Santos  \n",
       "5                                          Judas Priest  \n",
       "...                                                 ...  \n",
       "3498                                     Eugene Ormandy  \n",
       "3499                             Emerson String Quartet  \n",
       "3500  C. Monteverdi, Nigel Rogers - Chiaroscuro; Lon...  \n",
       "3501                                      Nash Ensemble  \n",
       "3502                              Philip Glass Ensemble  \n",
       "\n",
       "[3916 rows x 8 columns]"
      ]
     },
     "execution_count": 29,
     "metadata": {},
     "output_type": "execute_result"
    }
   ],
   "source": [
    "i_tunes[~(i_tunes['Genre'] == 'TV Shows')]"
   ]
  },
  {
   "cell_type": "code",
   "execution_count": 30,
   "metadata": {},
   "outputs": [
    {
     "data": {
      "text/html": [
       "<div>\n",
       "<style scoped>\n",
       "    .dataframe tbody tr th:only-of-type {\n",
       "        vertical-align: middle;\n",
       "    }\n",
       "\n",
       "    .dataframe tbody tr th {\n",
       "        vertical-align: top;\n",
       "    }\n",
       "\n",
       "    .dataframe thead th {\n",
       "        text-align: right;\n",
       "    }\n",
       "</style>\n",
       "<table border=\"1\" class=\"dataframe\">\n",
       "  <thead>\n",
       "    <tr style=\"text-align: right;\">\n",
       "      <th></th>\n",
       "      <th>Track</th>\n",
       "      <th>Composer</th>\n",
       "      <th>Milliseconds</th>\n",
       "      <th>Bytes</th>\n",
       "      <th>UnitPrice</th>\n",
       "      <th>Genre</th>\n",
       "      <th>Album</th>\n",
       "      <th>Artist</th>\n",
       "    </tr>\n",
       "  </thead>\n",
       "  <tbody>\n",
       "    <tr>\n",
       "      <th>0</th>\n",
       "      <td>All the Best Cowboys Have Daddy Issues</td>\n",
       "      <td>NaN</td>\n",
       "      <td>2555492</td>\n",
       "      <td>211743651</td>\n",
       "      <td>1.99</td>\n",
       "      <td>TV Shows</td>\n",
       "      <td>Lost, Season 1</td>\n",
       "      <td>Lost</td>\n",
       "    </tr>\n",
       "    <tr>\n",
       "      <th>23</th>\n",
       "      <td>Confidence Man</td>\n",
       "      <td>NaN</td>\n",
       "      <td>2615244</td>\n",
       "      <td>223756475</td>\n",
       "      <td>1.99</td>\n",
       "      <td>TV Shows</td>\n",
       "      <td>Lost, Season 1</td>\n",
       "      <td>Lost</td>\n",
       "    </tr>\n",
       "    <tr>\n",
       "      <th>38</th>\n",
       "      <td>Diwali</td>\n",
       "      <td>NaN</td>\n",
       "      <td>1279904</td>\n",
       "      <td>252726644</td>\n",
       "      <td>1.99</td>\n",
       "      <td>TV Shows</td>\n",
       "      <td>The Office, Season 3</td>\n",
       "      <td>The Office</td>\n",
       "    </tr>\n",
       "    <tr>\n",
       "      <th>148</th>\n",
       "      <td>The 23rd Psalm</td>\n",
       "      <td>NaN</td>\n",
       "      <td>2610416</td>\n",
       "      <td>487401604</td>\n",
       "      <td>1.99</td>\n",
       "      <td>TV Shows</td>\n",
       "      <td>Lost, Season 2</td>\n",
       "      <td>Lost</td>\n",
       "    </tr>\n",
       "    <tr>\n",
       "      <th>209</th>\n",
       "      <td>Lost (Pilot, Part 2)</td>\n",
       "      <td>NaN</td>\n",
       "      <td>2436583</td>\n",
       "      <td>204995876</td>\n",
       "      <td>1.99</td>\n",
       "      <td>TV Shows</td>\n",
       "      <td>Lost, Season 1</td>\n",
       "      <td>Lost</td>\n",
       "    </tr>\n",
       "    <tr>\n",
       "      <th>...</th>\n",
       "      <td>...</td>\n",
       "      <td>...</td>\n",
       "      <td>...</td>\n",
       "      <td>...</td>\n",
       "      <td>...</td>\n",
       "      <td>...</td>\n",
       "      <td>...</td>\n",
       "      <td>...</td>\n",
       "    </tr>\n",
       "    <tr>\n",
       "      <th>3210</th>\n",
       "      <td>The Merger</td>\n",
       "      <td>None</td>\n",
       "      <td>1801926</td>\n",
       "      <td>345960631</td>\n",
       "      <td>1.99</td>\n",
       "      <td>TV Shows</td>\n",
       "      <td>The Office, Season 3</td>\n",
       "      <td>The Office</td>\n",
       "    </tr>\n",
       "    <tr>\n",
       "      <th>3253</th>\n",
       "      <td>Pilot</td>\n",
       "      <td>None</td>\n",
       "      <td>2484567</td>\n",
       "      <td>492670102</td>\n",
       "      <td>1.99</td>\n",
       "      <td>TV Shows</td>\n",
       "      <td>Aquaman</td>\n",
       "      <td>Aquaman</td>\n",
       "    </tr>\n",
       "    <tr>\n",
       "      <th>3344</th>\n",
       "      <td>Eggtown</td>\n",
       "      <td>None</td>\n",
       "      <td>2608817</td>\n",
       "      <td>501061240</td>\n",
       "      <td>1.99</td>\n",
       "      <td>TV Shows</td>\n",
       "      <td>LOST, Season 4</td>\n",
       "      <td>Lost</td>\n",
       "    </tr>\n",
       "    <tr>\n",
       "      <th>3347</th>\n",
       "      <td>Ji Yeon</td>\n",
       "      <td>None</td>\n",
       "      <td>2588797</td>\n",
       "      <td>506458858</td>\n",
       "      <td>1.99</td>\n",
       "      <td>TV Shows</td>\n",
       "      <td>LOST, Season 4</td>\n",
       "      <td>Lost</td>\n",
       "    </tr>\n",
       "    <tr>\n",
       "      <th>3348</th>\n",
       "      <td>Meet Kevin Johnson</td>\n",
       "      <td>None</td>\n",
       "      <td>2612028</td>\n",
       "      <td>504132981</td>\n",
       "      <td>1.99</td>\n",
       "      <td>TV Shows</td>\n",
       "      <td>LOST, Season 4</td>\n",
       "      <td>Lost</td>\n",
       "    </tr>\n",
       "  </tbody>\n",
       "</table>\n",
       "<p>105 rows × 8 columns</p>\n",
       "</div>"
      ],
      "text/plain": [
       "                                       Track Composer  Milliseconds  \\\n",
       "0     All the Best Cowboys Have Daddy Issues      NaN       2555492   \n",
       "23                            Confidence Man      NaN       2615244   \n",
       "38                                    Diwali      NaN       1279904   \n",
       "148                           The 23rd Psalm      NaN       2610416   \n",
       "209                     Lost (Pilot, Part 2)      NaN       2436583   \n",
       "...                                      ...      ...           ...   \n",
       "3210                              The Merger     None       1801926   \n",
       "3253                                   Pilot     None       2484567   \n",
       "3344                                 Eggtown     None       2608817   \n",
       "3347                                 Ji Yeon     None       2588797   \n",
       "3348                      Meet Kevin Johnson     None       2612028   \n",
       "\n",
       "          Bytes  UnitPrice     Genre                 Album      Artist  \n",
       "0     211743651       1.99  TV Shows        Lost, Season 1        Lost  \n",
       "23    223756475       1.99  TV Shows        Lost, Season 1        Lost  \n",
       "38    252726644       1.99  TV Shows  The Office, Season 3  The Office  \n",
       "148   487401604       1.99  TV Shows        Lost, Season 2        Lost  \n",
       "209   204995876       1.99  TV Shows        Lost, Season 1        Lost  \n",
       "...         ...        ...       ...                   ...         ...  \n",
       "3210  345960631       1.99  TV Shows  The Office, Season 3  The Office  \n",
       "3253  492670102       1.99  TV Shows               Aquaman     Aquaman  \n",
       "3344  501061240       1.99  TV Shows        LOST, Season 4        Lost  \n",
       "3347  506458858       1.99  TV Shows        LOST, Season 4        Lost  \n",
       "3348  504132981       1.99  TV Shows        LOST, Season 4        Lost  \n",
       "\n",
       "[105 rows x 8 columns]"
      ]
     },
     "execution_count": 30,
     "metadata": {},
     "output_type": "execute_result"
    }
   ],
   "source": [
    "i_tunes[i_tunes['Genre'].str.contains('TV')]\n"
   ]
  },
  {
   "cell_type": "markdown",
   "metadata": {},
   "source": [
    "                            Remove irrelavant data"
   ]
  },
  {
   "cell_type": "code",
   "execution_count": 31,
   "metadata": {},
   "outputs": [
    {
     "data": {
      "text/plain": [
       "Index(['Track', 'Milliseconds', 'Bytes', 'UnitPrice', 'Genre', 'Album',\n",
       "       'Artist'],\n",
       "      dtype='object')"
      ]
     },
     "execution_count": 31,
     "metadata": {},
     "output_type": "execute_result"
    }
   ],
   "source": [
    "i_tunes.drop('Composer', axis=1, inplace=True)\n",
    "i_tunes.columns"
   ]
  },
  {
   "cell_type": "code",
   "execution_count": 32,
   "metadata": {},
   "outputs": [
    {
     "name": "stdout",
     "output_type": "stream",
     "text": [
      "                                    Track  Milliseconds      Bytes  UnitPrice  \\\n",
      "0  All the Best Cowboys Have Daddy Issues       2555492  211743651       1.99   \n",
      "1                               Beira Mar        295444    9597994       0.99   \n",
      "2                                  Brasil        155428    5252560       0.99   \n",
      "4            O Último Romântico (Ao Vivo)        231993    7692697       0.99   \n",
      "5                       Freewheel Burning        265952    8713599       0.99   \n",
      "\n",
      "      Genre                                            Album  \\\n",
      "0  TV Shows                                   Lost, Season 1   \n",
      "1     Latin                                        Unplugged   \n",
      "2     Latin                        Milton Nascimento Ao Vivo   \n",
      "4     Latin  Lulu Santos - RCA 100 Anos De Música - Álbum 02   \n",
      "5     Metal                            Living After Midnight   \n",
      "\n",
      "              Artist  \n",
      "0               Lost  \n",
      "1       Eric Clapton  \n",
      "2  Milton Nascimento  \n",
      "4        Lulu Santos  \n",
      "5       Judas Priest  \n"
     ]
    }
   ],
   "source": [
    "only_music = i_tunes[~i_tunes['Genre'].isin(['Drama', 'TVShows', 'Sci Fi & Fantasy', 'Science Fiction', 'Comedy'])]\n",
    "print(only_music.head(5))"
   ]
  },
  {
   "cell_type": "markdown",
   "metadata": {},
   "source": [
    "                         Dealing with missing values\n"
   ]
  },
  {
   "cell_type": "markdown",
   "metadata": {},
   "source": [
    "In terms of dealing with missing values, we have some options:\n",
    "Leave the missing values as-is\n",
    "Drop the data\n",
    "Fill with a specific value\n",
    "Replace with the mean, median, or mode\n",
    "Use machine learning to replace missing values"
   ]
  },
  {
   "cell_type": "code",
   "execution_count": 33,
   "metadata": {},
   "outputs": [
    {
     "data": {
      "text/html": [
       "<div>\n",
       "<style scoped>\n",
       "    .dataframe tbody tr th:only-of-type {\n",
       "        vertical-align: middle;\n",
       "    }\n",
       "\n",
       "    .dataframe tbody tr th {\n",
       "        vertical-align: top;\n",
       "    }\n",
       "\n",
       "    .dataframe thead th {\n",
       "        text-align: right;\n",
       "    }\n",
       "</style>\n",
       "<table border=\"1\" class=\"dataframe\">\n",
       "  <thead>\n",
       "    <tr style=\"text-align: right;\">\n",
       "      <th></th>\n",
       "      <th>Track</th>\n",
       "      <th>Composer</th>\n",
       "      <th>Milliseconds</th>\n",
       "      <th>Bytes</th>\n",
       "      <th>UnitPrice</th>\n",
       "      <th>Genre</th>\n",
       "      <th>Album</th>\n",
       "      <th>Artist</th>\n",
       "    </tr>\n",
       "  </thead>\n",
       "  <tbody>\n",
       "    <tr>\n",
       "      <th>3465</th>\n",
       "      <td>Three Minutes</td>\n",
       "      <td>None</td>\n",
       "      <td>2763666</td>\n",
       "      <td>531556853</td>\n",
       "      <td>1.99</td>\n",
       "      <td>TV Shows</td>\n",
       "      <td>Lost, Season 2</td>\n",
       "      <td>Lost</td>\n",
       "    </tr>\n",
       "    <tr>\n",
       "      <th>401</th>\n",
       "      <td>Romance Ideal</td>\n",
       "      <td>NaN</td>\n",
       "      <td>250070</td>\n",
       "      <td>8260477</td>\n",
       "      <td>0.99</td>\n",
       "      <td>Latin</td>\n",
       "      <td>Arquivo Os Paralamas Do Sucesso</td>\n",
       "      <td>Os Paralamas Do Sucesso</td>\n",
       "    </tr>\n",
       "    <tr>\n",
       "      <th>3845</th>\n",
       "      <td>Todo o Carnaval tem seu Fim</td>\n",
       "      <td>None</td>\n",
       "      <td>237426</td>\n",
       "      <td>9499371</td>\n",
       "      <td>0.99</td>\n",
       "      <td>Electronica/Dance</td>\n",
       "      <td>Radio Brasil (O Som da Jovem Vanguarda) - Sele...</td>\n",
       "      <td>O Rappa</td>\n",
       "    </tr>\n",
       "    <tr>\n",
       "      <th>2975</th>\n",
       "      <td>We've Got To Get Together/Jingo</td>\n",
       "      <td>None</td>\n",
       "      <td>1070027</td>\n",
       "      <td>34618222</td>\n",
       "      <td>0.99</td>\n",
       "      <td>Rock</td>\n",
       "      <td>Santana Live</td>\n",
       "      <td>Santana</td>\n",
       "    </tr>\n",
       "    <tr>\n",
       "      <th>1105</th>\n",
       "      <td>Vamos Dançar</td>\n",
       "      <td>None</td>\n",
       "      <td>226194</td>\n",
       "      <td>7617432</td>\n",
       "      <td>0.99</td>\n",
       "      <td>Latin</td>\n",
       "      <td>The Best of Ed Motta</td>\n",
       "      <td>Ed Motta</td>\n",
       "    </tr>\n",
       "  </tbody>\n",
       "</table>\n",
       "</div>"
      ],
      "text/plain": [
       "                                Track Composer  Milliseconds      Bytes  \\\n",
       "3465                    Three Minutes     None       2763666  531556853   \n",
       "401                     Romance Ideal      NaN        250070    8260477   \n",
       "3845      Todo o Carnaval tem seu Fim     None        237426    9499371   \n",
       "2975  We've Got To Get Together/Jingo     None       1070027   34618222   \n",
       "1105                     Vamos Dançar     None        226194    7617432   \n",
       "\n",
       "      UnitPrice              Genre  \\\n",
       "3465       1.99           TV Shows   \n",
       "401        0.99              Latin   \n",
       "3845       0.99  Electronica/Dance   \n",
       "2975       0.99               Rock   \n",
       "1105       0.99              Latin   \n",
       "\n",
       "                                                  Album  \\\n",
       "3465                                     Lost, Season 2   \n",
       "401                     Arquivo Os Paralamas Do Sucesso   \n",
       "3845  Radio Brasil (O Som da Jovem Vanguarda) - Sele...   \n",
       "2975                                       Santana Live   \n",
       "1105                               The Best of Ed Motta   \n",
       "\n",
       "                       Artist  \n",
       "3465                     Lost  \n",
       "401   Os Paralamas Do Sucesso  \n",
       "3845                  O Rappa  \n",
       "2975                  Santana  \n",
       "1105                 Ed Motta  "
      ]
     },
     "execution_count": 33,
     "metadata": {},
     "output_type": "execute_result"
    }
   ],
   "source": [
    "test_df[test_df['Composer'].isna()].sample(5, random_state=42).head()"
   ]
  },
  {
   "cell_type": "code",
   "execution_count": 34,
   "metadata": {},
   "outputs": [],
   "source": [
    "i_tunes.dropna(inplace=True)"
   ]
  },
  {
   "cell_type": "code",
   "execution_count": 35,
   "metadata": {},
   "outputs": [
    {
     "name": "stdout",
     "output_type": "stream",
     "text": [
      "'Composer' column not found in i_tunes\n"
     ]
    }
   ],
   "source": [
    "if 'Composer' in i_tunes.columns:\n",
    "\ti_tunes['Composer'].fillna('Unknown', inplace=True)\n",
    "else:\n",
    "\tprint(\"'Composer' column not found in i_tunes\")\n"
   ]
  },
  {
   "cell_type": "code",
   "execution_count": 36,
   "metadata": {},
   "outputs": [],
   "source": [
    "i_tunes['UnitPrice'] = i_tunes['UnitPrice'].fillna(i_tunes['UnitPrice'].mode()[0])"
   ]
  },
  {
   "cell_type": "code",
   "execution_count": 37,
   "metadata": {},
   "outputs": [],
   "source": [
    "import numpy as np\n",
    "i_tunes.loc[0, 'Bytes'] = np.nan\n",
    "from sklearn.impute import KNNImputer\n",
    "imputer = KNNImputer()\n",
    "imputed = imputer.fit_transform(i_tunes [['Milliseconds', 'Bytes', 'UnitPrice']])\n",
    "i_tunes['Bytes'] = imputed[:, 1]\n",
    "\n"
   ]
  },
  {
   "cell_type": "markdown",
   "metadata": {},
   "source": [
    "                 Dealing with outier"
   ]
  },
  {
   "cell_type": "code",
   "execution_count": 38,
   "metadata": {},
   "outputs": [
    {
     "name": "stdout",
     "output_type": "stream",
     "text": [
      "(3614, 7)\n"
     ]
    }
   ],
   "source": [
    "def remove_outliers(df, column):\n",
    "    q1 = df[column].quantile(0.25)\n",
    "    q3 = df[column].quantile(0.75)\n",
    "    iqr = q3 - q1\n",
    "    upper_boundary = q3 + 1.5 * iqr\n",
    "    lower_boundary = q1 - 1.5 * iqr\n",
    "    new_df = df.loc[(df[column] > lower_boundary) & (df[column] < upper_boundary)]\n",
    "    return new_df\n",
    "itunes_df_clean = remove_outliers(i_tunes, 'Milliseconds')\n",
    "print(itunes_df_clean.shape)"
   ]
  },
  {
   "cell_type": "markdown",
   "metadata": {},
   "source": [
    "                                dealing with duplicated value"
   ]
  },
  {
   "cell_type": "code",
   "execution_count": 39,
   "metadata": {},
   "outputs": [
    {
     "data": {
      "text/plain": [
       "516"
      ]
     },
     "execution_count": 39,
     "metadata": {},
     "output_type": "execute_result"
    }
   ],
   "source": [
    "i_tunes.duplicated().sum()"
   ]
  },
  {
   "cell_type": "code",
   "execution_count": 40,
   "metadata": {},
   "outputs": [],
   "source": [
    "i_tunes.drop_duplicates(inplace=True)\n"
   ]
  },
  {
   "cell_type": "markdown",
   "metadata": {},
   "source": [
    "                             Ensuring datatype are correct"
   ]
  },
  {
   "cell_type": "code",
   "execution_count": 41,
   "metadata": {},
   "outputs": [],
   "source": [
    "i_tunes['Milliseconds'] = i_tunes['Milliseconds'].astype('int')"
   ]
  },
  {
   "cell_type": "markdown",
   "metadata": {},
   "source": [
    "                              Standardizing data formats"
   ]
  },
  {
   "cell_type": "code",
   "execution_count": 42,
   "metadata": {},
   "outputs": [
    {
     "name": "stdout",
     "output_type": "stream",
     "text": [
      "                                    track  milliseconds        bytes  \\\n",
      "0  All the Best Cowboys Have Daddy Issues       2555492  381737603.6   \n",
      "1                               Beira Mar        295444    9597994.0   \n",
      "2                                  Brasil        155428    5252560.0   \n",
      "3                            Ben Franklin       1271938  264168080.0   \n",
      "4            O Último Romântico (Ao Vivo)        231993    7692697.0   \n",
      "\n",
      "   unitprice     genre                                            album  \\\n",
      "0       1.99  TV Shows                                   Lost, Season 1   \n",
      "1       0.99     Latin                                        Unplugged   \n",
      "2       0.99     Latin                        Milton Nascimento Ao Vivo   \n",
      "3       1.99    Comedy                             The Office, Season 3   \n",
      "4       0.99     Latin  Lulu Santos - RCA 100 Anos De Música - Álbum 02   \n",
      "\n",
      "              artist  \n",
      "0               Lost  \n",
      "1       Eric Clapton  \n",
      "2  Milton Nascimento  \n",
      "3         The Office  \n",
      "4        Lulu Santos  \n"
     ]
    }
   ],
   "source": [
    "# Standardize column names: lower-case and replace spaces with underscores\n",
    "i_tunes.columns = [col.lower().replace(\" \", \"_\") for col in i_tunes.columns]\n",
    "\n",
    "# Remove any extra whitespace from string columns\n",
    "str_cols = i_tunes.select_dtypes(include=[\"object\"]).columns\n",
    "for col in str_cols:\n",
    "    i_tunes[col] = i_tunes[col].str.strip()\n",
    "\n",
    "# Optionally, round the unitprice column to two decimals\n",
    "i_tunes[\"unitprice\"] = i_tunes[\"unitprice\"].round(2)\n",
    "\n",
    "print(i_tunes.head(5))"
   ]
  },
  {
   "cell_type": "markdown",
   "metadata": {},
   "source": [
    "                                      Data transformations"
   ]
  },
  {
   "cell_type": "code",
   "execution_count": 43,
   "metadata": {},
   "outputs": [],
   "source": [
    "i_tunes['seconds'] = i_tunes['milliseconds'] / 1000\n"
   ]
  },
  {
   "cell_type": "code",
   "execution_count": 44,
   "metadata": {},
   "outputs": [],
   "source": [
    "i_tunes['len_byte_ratio'] = i_tunes['milliseconds'] / i_tunes['bytes']"
   ]
  },
  {
   "cell_type": "markdown",
   "metadata": {},
   "source": [
    "                                   Using replace, map, and apply to clean and transform data"
   ]
  },
  {
   "cell_type": "code",
   "execution_count": 45,
   "metadata": {},
   "outputs": [
    {
     "data": {
      "text/plain": [
       "0         TV Shows\n",
       "1            Latin\n",
       "2            Latin\n",
       "3           Comedy\n",
       "4            Latin\n",
       "           ...    \n",
       "3496     Classical\n",
       "3499     Classical\n",
       "3500     Classical\n",
       "3501     Classical\n",
       "3502    Soundtrack\n",
       "Name: genre, Length: 3505, dtype: object"
      ]
     },
     "execution_count": 45,
     "metadata": {},
     "output_type": "execute_result"
    }
   ],
   "source": [
    "genre_dict = {'metal': 'Metal', 'met': 'Metal'}\n",
    "i_tunes['genre'].replace(genre_dict)"
   ]
  },
  {
   "cell_type": "code",
   "execution_count": 46,
   "metadata": {},
   "outputs": [
    {
     "data": {
      "text/plain": [
       "0         tv shows\n",
       "1            latin\n",
       "2            latin\n",
       "3           comedy\n",
       "4            latin\n",
       "           ...    \n",
       "3496     classical\n",
       "3499     classical\n",
       "3500     classical\n",
       "3501     classical\n",
       "3502    soundtrack\n",
       "Name: genre, Length: 3505, dtype: object"
      ]
     },
     "execution_count": 46,
     "metadata": {},
     "output_type": "execute_result"
    }
   ],
   "source": [
    "i_tunes['genre'].apply(lambda x: x.lower())"
   ]
  },
  {
   "cell_type": "code",
   "execution_count": 47,
   "metadata": {},
   "outputs": [
    {
     "data": {
      "text/plain": [
       "0         tv shows\n",
       "1            latin\n",
       "2            latin\n",
       "3           comedy\n",
       "4            latin\n",
       "           ...    \n",
       "3496     classical\n",
       "3499     classical\n",
       "3500     classical\n",
       "3501     classical\n",
       "3502    soundtrack\n",
       "Name: genre, Length: 3505, dtype: object"
      ]
     },
     "execution_count": 47,
     "metadata": {},
     "output_type": "execute_result"
    }
   ],
   "source": [
    "def lowercase(x):\n",
    "    return x.lower()\n",
    "i_tunes['genre'].apply(lowercase)"
   ]
  },
  {
   "cell_type": "code",
   "execution_count": 48,
   "metadata": {},
   "outputs": [
    {
     "data": {
      "text/plain": [
       "0         tv shows\n",
       "1            latin\n",
       "2            latin\n",
       "3           comedy\n",
       "4            latin\n",
       "           ...    \n",
       "3496     classical\n",
       "3499     classical\n",
       "3500     classical\n",
       "3501     classical\n",
       "3502    soundtrack\n",
       "Name: genre, Length: 3505, dtype: object"
      ]
     },
     "execution_count": 48,
     "metadata": {},
     "output_type": "execute_result"
    }
   ],
   "source": [
    "i_tunes['genre'].str.lower()\n"
   ]
  },
  {
   "cell_type": "code",
   "execution_count": 49,
   "metadata": {},
   "outputs": [
    {
     "name": "stderr",
     "output_type": "stream",
     "text": [
      "c:\\Users\\David gathara marigi\\AppData\\Local\\Programs\\Python\\Python311\\Lib\\site-packages\\swifter\\swifter.py:87: UserWarning: This pandas object has duplicate indices, and swifter may not be able to improve performance. Consider resetting the indices with `df.reset_index(drop=True)`.\n",
      "  warnings.warn(\n"
     ]
    },
    {
     "data": {
      "application/vnd.jupyter.widget-view+json": {
       "model_id": "f0a0482c95964989bc3559c0cad6171e",
       "version_major": 2,
       "version_minor": 0
      },
      "text/plain": [
       "Pandas Apply:   0%|          | 0/3505 [00:00<?, ?it/s]"
      ]
     },
     "metadata": {},
     "output_type": "display_data"
    },
    {
     "data": {
      "text/plain": [
       "0         tv shows\n",
       "1            latin\n",
       "2            latin\n",
       "3           comedy\n",
       "4            latin\n",
       "           ...    \n",
       "3496     classical\n",
       "3499     classical\n",
       "3500     classical\n",
       "3501     classical\n",
       "3502    soundtrack\n",
       "Name: genre, Length: 3505, dtype: object"
      ]
     },
     "execution_count": 49,
     "metadata": {},
     "output_type": "execute_result"
    }
   ],
   "source": [
    "import swifter\n",
    "i_tunes['genre'].swifter.apply(lambda x:x.lower())"
   ]
  },
  {
   "cell_type": "markdown",
   "metadata": {},
   "source": [
    "                                                    using groupby"
   ]
  },
  {
   "cell_type": "code",
   "execution_count": 50,
   "metadata": {},
   "outputs": [
    {
     "data": {
      "text/plain": [
       "genre\n",
       "Rock And Roll     134.643500\n",
       "Opera             174.813000\n",
       "Hip Hop/Rap       178.176286\n",
       "Easy Listening    189.164208\n",
       "Bossa Nova        219.590000\n",
       "Name: seconds, dtype: float64"
      ]
     },
     "execution_count": 50,
     "metadata": {},
     "output_type": "execute_result"
    }
   ],
   "source": [
    "i_tunes.groupby('genre')['seconds'].mean().sort_values().head()\n"
   ]
  },
  {
   "cell_type": "markdown",
   "metadata": {},
   "source": [
    "                                Writing DataFrames to disk"
   ]
  },
  {
   "cell_type": "code",
   "execution_count": 51,
   "metadata": {},
   "outputs": [],
   "source": [
    "import os\n",
    "os.makedirs('data', exist_ok=True)\n",
    "i_tunes.to_csv('data/saved_itunes_data.csv', index=False)"
   ]
  }
 ],
 "metadata": {
  "kernelspec": {
   "display_name": "Python 3",
   "language": "python",
   "name": "python3"
  },
  "language_info": {
   "codemirror_mode": {
    "name": "ipython",
    "version": 3
   },
   "file_extension": ".py",
   "mimetype": "text/x-python",
   "name": "python",
   "nbconvert_exporter": "python",
   "pygments_lexer": "ipython3",
   "version": "3.11.9"
  }
 },
 "nbformat": 4,
 "nbformat_minor": 2
}
