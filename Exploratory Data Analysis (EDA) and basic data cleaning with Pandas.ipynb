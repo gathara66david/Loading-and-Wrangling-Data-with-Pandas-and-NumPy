{
 "cells": [
  {
   "cell_type": "markdown",
   "metadata": {},
   "source": [
    "    In general, we can follow a general EDA checklist:\n",
    ".Examine the top and bottom of the data\n",
    ".Examine the data's dimensions\n",
    ".Examine the datatypes and missing values\n",
    ".Investigate statistical properties of the data\n",
    ".Create plots of the data"
   ]
  },
  {
   "cell_type": "code",
   "execution_count": 4,
   "metadata": {},
   "outputs": [],
   "source": [
    "import pandas as pd\n",
    "from sqlalchemy import create_engine"
   ]
  },
  {
   "cell_type": "code",
   "execution_count": 10,
   "metadata": {},
   "outputs": [
    {
     "data": {
      "text/html": [
       "<div>\n",
       "<style scoped>\n",
       "    .dataframe tbody tr th:only-of-type {\n",
       "        vertical-align: middle;\n",
       "    }\n",
       "\n",
       "    .dataframe tbody tr th {\n",
       "        vertical-align: top;\n",
       "    }\n",
       "\n",
       "    .dataframe thead th {\n",
       "        text-align: right;\n",
       "    }\n",
       "</style>\n",
       "<table border=\"1\" class=\"dataframe\">\n",
       "  <thead>\n",
       "    <tr style=\"text-align: right;\">\n",
       "      <th></th>\n",
       "      <th>Track</th>\n",
       "      <th>Composer</th>\n",
       "      <th>Milliseconds</th>\n",
       "      <th>Bytes</th>\n",
       "      <th>UnitPrice</th>\n",
       "      <th>Genre</th>\n",
       "      <th>Album</th>\n",
       "      <th>Artist</th>\n",
       "    </tr>\n",
       "  </thead>\n",
       "  <tbody>\n",
       "    <tr>\n",
       "      <th>3498</th>\n",
       "      <td>Pini Di Roma (Pinien Von Rom) \\ I Pini Della V...</td>\n",
       "      <td>None</td>\n",
       "      <td>286741</td>\n",
       "      <td>4718950</td>\n",
       "      <td>0.99</td>\n",
       "      <td>Classical</td>\n",
       "      <td>Respighi:Pines of Rome</td>\n",
       "      <td>Eugene Ormandy</td>\n",
       "    </tr>\n",
       "    <tr>\n",
       "      <th>3499</th>\n",
       "      <td>String Quartet No. 12 in C Minor, D. 703 \"Quar...</td>\n",
       "      <td>Franz Schubert</td>\n",
       "      <td>139200</td>\n",
       "      <td>2283131</td>\n",
       "      <td>0.99</td>\n",
       "      <td>Classical</td>\n",
       "      <td>Schubert: The Late String Quartets &amp; String Qu...</td>\n",
       "      <td>Emerson String Quartet</td>\n",
       "    </tr>\n",
       "    <tr>\n",
       "      <th>3500</th>\n",
       "      <td>L'orfeo, Act 3, Sinfonia (Orchestra)</td>\n",
       "      <td>Claudio Monteverdi</td>\n",
       "      <td>66639</td>\n",
       "      <td>1189062</td>\n",
       "      <td>0.99</td>\n",
       "      <td>Classical</td>\n",
       "      <td>Monteverdi: L'Orfeo</td>\n",
       "      <td>C. Monteverdi, Nigel Rogers - Chiaroscuro; Lon...</td>\n",
       "    </tr>\n",
       "    <tr>\n",
       "      <th>3501</th>\n",
       "      <td>Quintet for Horn, Violin, 2 Violas, and Cello ...</td>\n",
       "      <td>Wolfgang Amadeus Mozart</td>\n",
       "      <td>221331</td>\n",
       "      <td>3665114</td>\n",
       "      <td>0.99</td>\n",
       "      <td>Classical</td>\n",
       "      <td>Mozart: Chamber Music</td>\n",
       "      <td>Nash Ensemble</td>\n",
       "    </tr>\n",
       "    <tr>\n",
       "      <th>3502</th>\n",
       "      <td>Koyaanisqatsi</td>\n",
       "      <td>Philip Glass</td>\n",
       "      <td>206005</td>\n",
       "      <td>3305164</td>\n",
       "      <td>0.99</td>\n",
       "      <td>Soundtrack</td>\n",
       "      <td>Koyaanisqatsi (Soundtrack from the Motion Pict...</td>\n",
       "      <td>Philip Glass Ensemble</td>\n",
       "    </tr>\n",
       "  </tbody>\n",
       "</table>\n",
       "</div>"
      ],
      "text/plain": [
       "                                                  Track  \\\n",
       "3498  Pini Di Roma (Pinien Von Rom) \\ I Pini Della V...   \n",
       "3499  String Quartet No. 12 in C Minor, D. 703 \"Quar...   \n",
       "3500               L'orfeo, Act 3, Sinfonia (Orchestra)   \n",
       "3501  Quintet for Horn, Violin, 2 Violas, and Cello ...   \n",
       "3502                                      Koyaanisqatsi   \n",
       "\n",
       "                     Composer  Milliseconds    Bytes  UnitPrice       Genre  \\\n",
       "3498                     None        286741  4718950       0.99   Classical   \n",
       "3499           Franz Schubert        139200  2283131       0.99   Classical   \n",
       "3500       Claudio Monteverdi         66639  1189062       0.99   Classical   \n",
       "3501  Wolfgang Amadeus Mozart        221331  3665114       0.99   Classical   \n",
       "3502             Philip Glass        206005  3305164       0.99  Soundtrack   \n",
       "\n",
       "                                                  Album  \\\n",
       "3498                             Respighi:Pines of Rome   \n",
       "3499  Schubert: The Late String Quartets & String Qu...   \n",
       "3500                                Monteverdi: L'Orfeo   \n",
       "3501                              Mozart: Chamber Music   \n",
       "3502  Koyaanisqatsi (Soundtrack from the Motion Pict...   \n",
       "\n",
       "                                                 Artist  \n",
       "3498                                     Eugene Ormandy  \n",
       "3499                             Emerson String Quartet  \n",
       "3500  C. Monteverdi, Nigel Rogers - Chiaroscuro; Lon...  \n",
       "3501                                      Nash Ensemble  \n",
       "3502                              Philip Glass Ensemble  "
      ]
     },
     "execution_count": 10,
     "metadata": {},
     "output_type": "execute_result"
    }
   ],
   "source": [
    "csv_file = pd.read_csv(r\"C:\\Users\\David gathara marigi\\Downloads\\itunes_data.csv\")\n",
    "xlsx_file = pd.read_excel(r\"C:\\Users\\David gathara marigi\\Downloads\\itunes_data.xlsx\", engine ='openpyxl')\n",
    "engine = create_engine(r\"sqlite:///C:\\Users\\David gathara marigi\\Downloads\\chinook.db\")\n",
    "query = \"\"\"SELECT tracks.name as Track, \n",
    "tracks.composer, \n",
    "tracks.milliseconds,\n",
    "tracks.bytes, \n",
    "tracks.unitprice,\n",
    "genres.name as Genre,\n",
    "albums.title as Album,\n",
    "artists.name as Artist\n",
    "FROM tracks\n",
    "JOIN genres ON tracks.genreid = genres.genreid\n",
    "JOIN albums ON tracks.albumid = albums.albumid\n",
    "JOIN artists ON albums.artistid = artists.artistid;\n",
    "\"\"\"\n",
    "with engine.connect() as connection:\n",
    "    sql_df = pd.read_sql_query(query, connection)\n",
    "i_tunes = pd.concat([csv_file, xlsx_file, sql_df]) \n",
    "i_tunes.tail()\n"
   ]
  },
  {
   "cell_type": "code",
   "execution_count": 11,
   "metadata": {},
   "outputs": [
    {
     "name": "stdout",
     "output_type": "stream",
     "text": [
      "Track           All the Best Cowboys Have Daddy Issues\n",
      "Composer                                           NaN\n",
      "Milliseconds                                   2555492\n",
      "Bytes                                        211743651\n",
      "UnitPrice                                         1.99\n",
      "Genre                                         TV Shows\n",
      "Album                                   Lost, Season 1\n",
      "Artist                                            Lost\n",
      "Name: 0, dtype: object\n",
      "Track                                               Koyaanisqatsi\n",
      "Composer                                             Philip Glass\n",
      "Milliseconds                                               206005\n",
      "Bytes                                                     3305164\n",
      "UnitPrice                                                    0.99\n",
      "Genre                                                  Soundtrack\n",
      "Album           Koyaanisqatsi (Soundtrack from the Motion Pict...\n",
      "Artist                                      Philip Glass Ensemble\n",
      "Name: 3502, dtype: object\n"
     ]
    }
   ],
   "source": [
    "print(i_tunes.iloc[0])\n",
    "print(i_tunes.iloc[-1])"
   ]
  },
  {
   "cell_type": "code",
   "execution_count": 12,
   "metadata": {},
   "outputs": [
    {
     "name": "stdout",
     "output_type": "stream",
     "text": [
      "All the Best Cowboys Have Daddy Issues\n",
      "Philip Glass Ensemble\n"
     ]
    }
   ],
   "source": [
    "print(i_tunes.iloc[0, 0])\n",
    "print(i_tunes.iloc[-1, -1])"
   ]
  },
  {
   "cell_type": "code",
   "execution_count": 13,
   "metadata": {},
   "outputs": [
    {
     "name": "stdout",
     "output_type": "stream",
     "text": [
      "Track                                               Koyaanisqatsi\n",
      "Composer                                             Philip Glass\n",
      "Milliseconds                                               206005\n",
      "Bytes                                                     3305164\n",
      "UnitPrice                                                    0.99\n",
      "Genre                                                  Soundtrack\n",
      "Album           Koyaanisqatsi (Soundtrack from the Motion Pict...\n",
      "Artist                                      Philip Glass Ensemble\n",
      "Name: 3502, dtype: object\n"
     ]
    }
   ],
   "source": [
    "print(i_tunes.loc[3502])"
   ]
  },
  {
   "cell_type": "code",
   "execution_count": 15,
   "metadata": {},
   "outputs": [
    {
     "data": {
      "text/html": [
       "<div>\n",
       "<style scoped>\n",
       "    .dataframe tbody tr th:only-of-type {\n",
       "        vertical-align: middle;\n",
       "    }\n",
       "\n",
       "    .dataframe tbody tr th {\n",
       "        vertical-align: top;\n",
       "    }\n",
       "\n",
       "    .dataframe thead th {\n",
       "        text-align: right;\n",
       "    }\n",
       "</style>\n",
       "<table border=\"1\" class=\"dataframe\">\n",
       "  <thead>\n",
       "    <tr style=\"text-align: right;\">\n",
       "      <th></th>\n",
       "      <th>Track</th>\n",
       "      <th>Composer</th>\n",
       "      <th>Milliseconds</th>\n",
       "      <th>Bytes</th>\n",
       "      <th>UnitPrice</th>\n",
       "      <th>Genre</th>\n",
       "      <th>Album</th>\n",
       "      <th>Artist</th>\n",
       "    </tr>\n",
       "  </thead>\n",
       "  <tbody>\n",
       "    <tr>\n",
       "      <th>3502</th>\n",
       "      <td>Koyaanisqatsi</td>\n",
       "      <td>Philip Glass</td>\n",
       "      <td>206005</td>\n",
       "      <td>3305164</td>\n",
       "      <td>0.99</td>\n",
       "      <td>Soundtrack</td>\n",
       "      <td>Koyaanisqatsi (Soundtrack from the Motion Pict...</td>\n",
       "      <td>Philip Glass Ensemble</td>\n",
       "    </tr>\n",
       "    <tr>\n",
       "      <th>3502</th>\n",
       "      <td>Koyaanisqatsi</td>\n",
       "      <td>Philip Glass</td>\n",
       "      <td>206005</td>\n",
       "      <td>3305164</td>\n",
       "      <td>0.99</td>\n",
       "      <td>Soundtrack</td>\n",
       "      <td>Koyaanisqatsi (Soundtrack from the Motion Pict...</td>\n",
       "      <td>Philip Glass Ensemble</td>\n",
       "    </tr>\n",
       "  </tbody>\n",
       "</table>\n",
       "</div>"
      ],
      "text/plain": [
       "              Track      Composer  Milliseconds    Bytes  UnitPrice  \\\n",
       "3502  Koyaanisqatsi  Philip Glass        206005  3305164       0.99   \n",
       "3502  Koyaanisqatsi  Philip Glass        206005  3305164       0.99   \n",
       "\n",
       "           Genre                                              Album  \\\n",
       "3502  Soundtrack  Koyaanisqatsi (Soundtrack from the Motion Pict...   \n",
       "3502  Soundtrack  Koyaanisqatsi (Soundtrack from the Motion Pict...   \n",
       "\n",
       "                     Artist  \n",
       "3502  Philip Glass Ensemble  \n",
       "3502  Philip Glass Ensemble  "
      ]
     },
     "execution_count": 15,
     "metadata": {},
     "output_type": "execute_result"
    }
   ],
   "source": [
    "test_df = i_tunes.copy()\n",
    "test_df = pd.concat([test_df, pd.DataFrame([i_tunes.loc[3502]])])\n",
    "test_df.loc[3502]"
   ]
  },
  {
   "cell_type": "code",
   "execution_count": 17,
   "metadata": {},
   "outputs": [
    {
     "name": "stdout",
     "output_type": "stream",
     "text": [
      "                                                  Track  \\\n",
      "0                All the Best Cowboys Have Daddy Issues   \n",
      "1                                             Beira Mar   \n",
      "2                                                Brasil   \n",
      "3                                          Ben Franklin   \n",
      "4                          O Último Romântico (Ao Vivo)   \n",
      "...                                                 ...   \n",
      "4017  String Quartet No. 12 in C Minor, D. 703 \"Quar...   \n",
      "4018               L'orfeo, Act 3, Sinfonia (Orchestra)   \n",
      "4019  Quintet for Horn, Violin, 2 Violas, and Cello ...   \n",
      "4020                                      Koyaanisqatsi   \n",
      "4021                                      Koyaanisqatsi   \n",
      "\n",
      "                               Composer  Milliseconds      Bytes  UnitPrice  \\\n",
      "0                                   NaN       2555492  211743651       1.99   \n",
      "1                          Gilberto Gil        295444    9597994       0.99   \n",
      "2     Milton Nascimento, Fernando Brant        155428    5252560       0.99   \n",
      "3                                   NaN       1271938  264168080       1.99   \n",
      "4                                   NaN        231993    7692697       0.99   \n",
      "...                                 ...           ...        ...        ...   \n",
      "4017                     Franz Schubert        139200    2283131       0.99   \n",
      "4018                 Claudio Monteverdi         66639    1189062       0.99   \n",
      "4019            Wolfgang Amadeus Mozart        221331    3665114       0.99   \n",
      "4020                       Philip Glass        206005    3305164       0.99   \n",
      "4021                       Philip Glass        206005    3305164       0.99   \n",
      "\n",
      "           Genre                                              Album  \\\n",
      "0       TV Shows                                     Lost, Season 1   \n",
      "1          Latin                                          Unplugged   \n",
      "2          Latin                          Milton Nascimento Ao Vivo   \n",
      "3         Comedy                               The Office, Season 3   \n",
      "4          Latin    Lulu Santos - RCA 100 Anos De Música - Álbum 02   \n",
      "...          ...                                                ...   \n",
      "4017   Classical  Schubert: The Late String Quartets & String Qu...   \n",
      "4018   Classical                                Monteverdi: L'Orfeo   \n",
      "4019   Classical                              Mozart: Chamber Music   \n",
      "4020  Soundtrack  Koyaanisqatsi (Soundtrack from the Motion Pict...   \n",
      "4021  Soundtrack  Koyaanisqatsi (Soundtrack from the Motion Pict...   \n",
      "\n",
      "                                                 Artist  \n",
      "0                                                  Lost  \n",
      "1                                          Eric Clapton  \n",
      "2                                     Milton Nascimento  \n",
      "3                                            The Office  \n",
      "4                                           Lulu Santos  \n",
      "...                                                 ...  \n",
      "4017                             Emerson String Quartet  \n",
      "4018  C. Monteverdi, Nigel Rogers - Chiaroscuro; Lon...  \n",
      "4019                                      Nash Ensemble  \n",
      "4020                              Philip Glass Ensemble  \n",
      "4021                              Philip Glass Ensemble  \n",
      "\n",
      "[4022 rows x 8 columns]\n"
     ]
    }
   ],
   "source": [
    "test_df.reset_index(inplace=True, drop=True)\n",
    "print(test_df)\n"
   ]
  },
  {
   "cell_type": "code",
   "execution_count": 18,
   "metadata": {},
   "outputs": [
    {
     "data": {
      "text/plain": [
       "0       2555492\n",
       "1        295444\n",
       "2        155428\n",
       "3       1271938\n",
       "4        231993\n",
       "         ...   \n",
       "3498     286741\n",
       "3499     139200\n",
       "3500      66639\n",
       "3501     221331\n",
       "3502     206005\n",
       "Name: Milliseconds, Length: 4021, dtype: int64"
      ]
     },
     "execution_count": 18,
     "metadata": {},
     "output_type": "execute_result"
    }
   ],
   "source": [
    "i_tunes['Milliseconds']"
   ]
  },
  {
   "cell_type": "code",
   "execution_count": 20,
   "metadata": {},
   "outputs": [
    {
     "data": {
      "text/html": [
       "<div>\n",
       "<style scoped>\n",
       "    .dataframe tbody tr th:only-of-type {\n",
       "        vertical-align: middle;\n",
       "    }\n",
       "\n",
       "    .dataframe tbody tr th {\n",
       "        vertical-align: top;\n",
       "    }\n",
       "\n",
       "    .dataframe thead th {\n",
       "        text-align: right;\n",
       "    }\n",
       "</style>\n",
       "<table border=\"1\" class=\"dataframe\">\n",
       "  <thead>\n",
       "    <tr style=\"text-align: right;\">\n",
       "      <th></th>\n",
       "      <th>Milliseconds</th>\n",
       "      <th>Bytes</th>\n",
       "      <th>Genre</th>\n",
       "    </tr>\n",
       "  </thead>\n",
       "  <tbody>\n",
       "    <tr>\n",
       "      <th>0</th>\n",
       "      <td>2555492</td>\n",
       "      <td>211743651</td>\n",
       "      <td>TV Shows</td>\n",
       "    </tr>\n",
       "    <tr>\n",
       "      <th>1</th>\n",
       "      <td>295444</td>\n",
       "      <td>9597994</td>\n",
       "      <td>Latin</td>\n",
       "    </tr>\n",
       "    <tr>\n",
       "      <th>2</th>\n",
       "      <td>155428</td>\n",
       "      <td>5252560</td>\n",
       "      <td>Latin</td>\n",
       "    </tr>\n",
       "    <tr>\n",
       "      <th>3</th>\n",
       "      <td>1271938</td>\n",
       "      <td>264168080</td>\n",
       "      <td>Comedy</td>\n",
       "    </tr>\n",
       "    <tr>\n",
       "      <th>4</th>\n",
       "      <td>231993</td>\n",
       "      <td>7692697</td>\n",
       "      <td>Latin</td>\n",
       "    </tr>\n",
       "    <tr>\n",
       "      <th>...</th>\n",
       "      <td>...</td>\n",
       "      <td>...</td>\n",
       "      <td>...</td>\n",
       "    </tr>\n",
       "    <tr>\n",
       "      <th>3498</th>\n",
       "      <td>286741</td>\n",
       "      <td>4718950</td>\n",
       "      <td>Classical</td>\n",
       "    </tr>\n",
       "    <tr>\n",
       "      <th>3499</th>\n",
       "      <td>139200</td>\n",
       "      <td>2283131</td>\n",
       "      <td>Classical</td>\n",
       "    </tr>\n",
       "    <tr>\n",
       "      <th>3500</th>\n",
       "      <td>66639</td>\n",
       "      <td>1189062</td>\n",
       "      <td>Classical</td>\n",
       "    </tr>\n",
       "    <tr>\n",
       "      <th>3501</th>\n",
       "      <td>221331</td>\n",
       "      <td>3665114</td>\n",
       "      <td>Classical</td>\n",
       "    </tr>\n",
       "    <tr>\n",
       "      <th>3502</th>\n",
       "      <td>206005</td>\n",
       "      <td>3305164</td>\n",
       "      <td>Soundtrack</td>\n",
       "    </tr>\n",
       "  </tbody>\n",
       "</table>\n",
       "<p>4021 rows × 3 columns</p>\n",
       "</div>"
      ],
      "text/plain": [
       "      Milliseconds      Bytes       Genre\n",
       "0          2555492  211743651    TV Shows\n",
       "1           295444    9597994       Latin\n",
       "2           155428    5252560       Latin\n",
       "3          1271938  264168080      Comedy\n",
       "4           231993    7692697       Latin\n",
       "...            ...        ...         ...\n",
       "3498        286741    4718950   Classical\n",
       "3499        139200    2283131   Classical\n",
       "3500         66639    1189062   Classical\n",
       "3501        221331    3665114   Classical\n",
       "3502        206005    3305164  Soundtrack\n",
       "\n",
       "[4021 rows x 3 columns]"
      ]
     },
     "execution_count": 20,
     "metadata": {},
     "output_type": "execute_result"
    }
   ],
   "source": [
    "i_tunes[['Milliseconds', 'Bytes', 'Genre']]"
   ]
  },
  {
   "cell_type": "markdown",
   "metadata": {},
   "source": [
    "                      Examining the data's dimensions, datatypes, and missing values"
   ]
  },
  {
   "cell_type": "code",
   "execution_count": 21,
   "metadata": {},
   "outputs": [
    {
     "name": "stdout",
     "output_type": "stream",
     "text": [
      "(4021, 8)\n"
     ]
    }
   ],
   "source": [
    "print(i_tunes.shape)"
   ]
  },
  {
   "cell_type": "code",
   "execution_count": 22,
   "metadata": {},
   "outputs": [
    {
     "name": "stdout",
     "output_type": "stream",
     "text": [
      "<class 'pandas.core.frame.DataFrame'>\n",
      "Index: 4021 entries, 0 to 3502\n",
      "Data columns (total 8 columns):\n",
      " #   Column        Non-Null Count  Dtype  \n",
      "---  ------        --------------  -----  \n",
      " 0   Track         4021 non-null   object \n",
      " 1   Composer      2908 non-null   object \n",
      " 2   Milliseconds  4021 non-null   int64  \n",
      " 3   Bytes         4021 non-null   int64  \n",
      " 4   UnitPrice     4021 non-null   float64\n",
      " 5   Genre         4021 non-null   object \n",
      " 6   Album         4021 non-null   object \n",
      " 7   Artist        4021 non-null   object \n",
      "dtypes: float64(1), int64(2), object(5)\n",
      "memory usage: 411.8+ KB\n"
     ]
    }
   ],
   "source": [
    "i_tunes.info()"
   ]
  },
  {
   "cell_type": "code",
   "execution_count": 23,
   "metadata": {},
   "outputs": [
    {
     "data": {
      "text/plain": [
       "Track              0\n",
       "Composer        1113\n",
       "Milliseconds       0\n",
       "Bytes              0\n",
       "UnitPrice          0\n",
       "Genre              0\n",
       "Album              0\n",
       "Artist             0\n",
       "dtype: int64"
      ]
     },
     "execution_count": 23,
     "metadata": {},
     "output_type": "execute_result"
    }
   ],
   "source": [
    "i_tunes.isna().sum()    "
   ]
  },
  {
   "cell_type": "markdown",
   "metadata": {},
   "source": [
    "                                 Investigating statistical properties of the data"
   ]
  },
  {
   "cell_type": "code",
   "execution_count": 24,
   "metadata": {},
   "outputs": [
    {
     "data": {
      "text/html": [
       "<div>\n",
       "<style scoped>\n",
       "    .dataframe tbody tr th:only-of-type {\n",
       "        vertical-align: middle;\n",
       "    }\n",
       "\n",
       "    .dataframe tbody tr th {\n",
       "        vertical-align: top;\n",
       "    }\n",
       "\n",
       "    .dataframe thead th {\n",
       "        text-align: right;\n",
       "    }\n",
       "</style>\n",
       "<table border=\"1\" class=\"dataframe\">\n",
       "  <thead>\n",
       "    <tr style=\"text-align: right;\">\n",
       "      <th></th>\n",
       "      <th>Milliseconds</th>\n",
       "      <th>Bytes</th>\n",
       "      <th>UnitPrice</th>\n",
       "    </tr>\n",
       "  </thead>\n",
       "  <tbody>\n",
       "    <tr>\n",
       "      <th>count</th>\n",
       "      <td>4.021000e+03</td>\n",
       "      <td>4.021000e+03</td>\n",
       "      <td>4021.000000</td>\n",
       "    </tr>\n",
       "    <tr>\n",
       "      <th>mean</th>\n",
       "      <td>3.927276e+05</td>\n",
       "      <td>3.311048e+07</td>\n",
       "      <td>1.050184</td>\n",
       "    </tr>\n",
       "    <tr>\n",
       "      <th>std</th>\n",
       "      <td>5.337745e+05</td>\n",
       "      <td>1.042268e+08</td>\n",
       "      <td>0.237857</td>\n",
       "    </tr>\n",
       "    <tr>\n",
       "      <th>min</th>\n",
       "      <td>1.071000e+03</td>\n",
       "      <td>3.874700e+04</td>\n",
       "      <td>0.990000</td>\n",
       "    </tr>\n",
       "    <tr>\n",
       "      <th>25%</th>\n",
       "      <td>2.069680e+05</td>\n",
       "      <td>6.372433e+06</td>\n",
       "      <td>0.990000</td>\n",
       "    </tr>\n",
       "    <tr>\n",
       "      <th>50%</th>\n",
       "      <td>2.554770e+05</td>\n",
       "      <td>8.102839e+06</td>\n",
       "      <td>0.990000</td>\n",
       "    </tr>\n",
       "    <tr>\n",
       "      <th>75%</th>\n",
       "      <td>3.217240e+05</td>\n",
       "      <td>1.025143e+07</td>\n",
       "      <td>0.990000</td>\n",
       "    </tr>\n",
       "    <tr>\n",
       "      <th>max</th>\n",
       "      <td>5.286953e+06</td>\n",
       "      <td>1.059546e+09</td>\n",
       "      <td>1.990000</td>\n",
       "    </tr>\n",
       "  </tbody>\n",
       "</table>\n",
       "</div>"
      ],
      "text/plain": [
       "       Milliseconds         Bytes    UnitPrice\n",
       "count  4.021000e+03  4.021000e+03  4021.000000\n",
       "mean   3.927276e+05  3.311048e+07     1.050184\n",
       "std    5.337745e+05  1.042268e+08     0.237857\n",
       "min    1.071000e+03  3.874700e+04     0.990000\n",
       "25%    2.069680e+05  6.372433e+06     0.990000\n",
       "50%    2.554770e+05  8.102839e+06     0.990000\n",
       "75%    3.217240e+05  1.025143e+07     0.990000\n",
       "max    5.286953e+06  1.059546e+09     1.990000"
      ]
     },
     "execution_count": 24,
     "metadata": {},
     "output_type": "execute_result"
    }
   ],
   "source": [
    "i_tunes.describe()"
   ]
  },
  {
   "cell_type": "code",
   "execution_count": 25,
   "metadata": {},
   "outputs": [
    {
     "data": {
      "text/plain": [
       "0    Rock\n",
       "Name: Genre, dtype: object"
      ]
     },
     "execution_count": 25,
     "metadata": {},
     "output_type": "execute_result"
    }
   ],
   "source": [
    "i_tunes['Genre'].mode()"
   ]
  },
  {
   "cell_type": "code",
   "execution_count": 28,
   "metadata": {},
   "outputs": [
    {
     "data": {
      "text/plain": [
       "Genre\n",
       "Rock                  1498\n",
       "Latin                  656\n",
       "Metal                  420\n",
       "Alternative & Punk     393\n",
       "Jazz                   160\n",
       "TV Shows               105\n",
       "Blues                   92\n",
       "Classical               85\n",
       "Drama                   71\n",
       "R&B/Soul                69\n",
       "Reggae                  64\n",
       "Pop                     51\n",
       "Soundtrack              50\n",
       "Alternative             45\n",
       "Hip Hop/Rap             40\n",
       "Electronica/Dance       35\n",
       "World                   32\n",
       "Heavy Metal             31\n",
       "Sci Fi & Fantasy        31\n",
       "Easy Listening          28\n",
       "Comedy                  20\n",
       "Bossa Nova              17\n",
       "Science Fiction         15\n",
       "Rock And Roll           12\n",
       "Opera                    1\n",
       "Name: count, dtype: int64"
      ]
     },
     "execution_count": 28,
     "metadata": {},
     "output_type": "execute_result"
    }
   ],
   "source": [
    "i_tunes['Genre'].value_counts()"
   ]
  },
  {
   "cell_type": "code",
   "execution_count": 29,
   "metadata": {},
   "outputs": [
    {
     "data": {
      "text/plain": [
       "Genre\n",
       "Rock                  1498\n",
       "Latin                  656\n",
       "Metal                  420\n",
       "Alternative & Punk     393\n",
       "Jazz                   160\n",
       "Name: count, dtype: int64"
      ]
     },
     "execution_count": 29,
     "metadata": {},
     "output_type": "execute_result"
    }
   ],
   "source": [
    "i_tunes['Genre'].value_counts().head(5)"
   ]
  },
  {
   "cell_type": "code",
   "execution_count": 30,
   "metadata": {},
   "outputs": [
    {
     "data": {
      "text/plain": [
       "Genre\n",
       "Rock                  1498\n",
       "Latin                  656\n",
       "Metal                  420\n",
       "Alternative & Punk     393\n",
       "Jazz                   160\n",
       "Name: count, dtype: int64"
      ]
     },
     "execution_count": 30,
     "metadata": {},
     "output_type": "execute_result"
    }
   ],
   "source": [
    "i_tunes['Genre'].value_counts()[:5]"
   ]
  },
  {
   "cell_type": "code",
   "execution_count": 31,
   "metadata": {},
   "outputs": [
    {
     "data": {
      "text/plain": [
       "(204,)"
      ]
     },
     "execution_count": 31,
     "metadata": {},
     "output_type": "execute_result"
    }
   ],
   "source": [
    "i_tunes['Artist'].unique().shape\n"
   ]
  },
  {
   "cell_type": "code",
   "execution_count": 33,
   "metadata": {},
   "outputs": [
    {
     "data": {
      "text/html": [
       "<div>\n",
       "<style scoped>\n",
       "    .dataframe tbody tr th:only-of-type {\n",
       "        vertical-align: middle;\n",
       "    }\n",
       "\n",
       "    .dataframe tbody tr th {\n",
       "        vertical-align: top;\n",
       "    }\n",
       "\n",
       "    .dataframe thead th {\n",
       "        text-align: right;\n",
       "    }\n",
       "</style>\n",
       "<table border=\"1\" class=\"dataframe\">\n",
       "  <thead>\n",
       "    <tr style=\"text-align: right;\">\n",
       "      <th></th>\n",
       "      <th>Milliseconds</th>\n",
       "      <th>Bytes</th>\n",
       "      <th>UnitPrice</th>\n",
       "    </tr>\n",
       "  </thead>\n",
       "  <tbody>\n",
       "    <tr>\n",
       "      <th>Milliseconds</th>\n",
       "      <td>1.000000</td>\n",
       "      <td>0.957791</td>\n",
       "      <td>0.934829</td>\n",
       "    </tr>\n",
       "    <tr>\n",
       "      <th>Bytes</th>\n",
       "      <td>0.957791</td>\n",
       "      <td>1.000000</td>\n",
       "      <td>0.938734</td>\n",
       "    </tr>\n",
       "    <tr>\n",
       "      <th>UnitPrice</th>\n",
       "      <td>0.934829</td>\n",
       "      <td>0.938734</td>\n",
       "      <td>1.000000</td>\n",
       "    </tr>\n",
       "  </tbody>\n",
       "</table>\n",
       "</div>"
      ],
      "text/plain": [
       "              Milliseconds     Bytes  UnitPrice\n",
       "Milliseconds      1.000000  0.957791   0.934829\n",
       "Bytes             0.957791  1.000000   0.938734\n",
       "UnitPrice         0.934829  0.938734   1.000000"
      ]
     },
     "execution_count": 33,
     "metadata": {},
     "output_type": "execute_result"
    }
   ],
   "source": [
    "i_tunes.select_dtypes(include=\"number\").corr()"
   ]
  },
  {
   "cell_type": "markdown",
   "metadata": {},
   "source": [
    "                             Plotting with DataFrames"
   ]
  },
  {
   "cell_type": "code",
   "execution_count": 34,
   "metadata": {},
   "outputs": [],
   "source": [
    "import matplotlib.pyplot as plt\n"
   ]
  },
  {
   "cell_type": "code",
   "execution_count": 35,
   "metadata": {},
   "outputs": [
    {
     "data": {
      "image/png": "[encoded data removed]",
      "text/plain": [
       "<Figure size 640x480 with 1 Axes>"
      ]
     },
     "metadata": {},
     "output_type": "display_data"
    }
   ],
   "source": [
    "i_tunes['Milliseconds'].hist(bins=30)\n",
    "plt.show()"
   ]
  },
  {
   "cell_type": "code",
   "execution_count": 36,
   "metadata": {},
   "outputs": [
    {
     "data": {
      "image/png": "[encoded data removed]",
      "text/plain": [
       "<Figure size 640x480 with 1 Axes>"
      ]
     },
     "metadata": {},
     "output_type": "display_data"
    }
   ],
   "source": [
    "i_tunes.plot.scatter(x='Milliseconds', y='Bytes')\n",
    "plt.show()"
   ]
  },
  {
   "cell_type": "code",
   "execution_count": 37,
   "metadata": {},
   "outputs": [
    {
     "data": {
      "image/png": "[encoded data removed]",
      "text/plain": [
       "<Figure size 640x480 with 1 Axes>"
      ]
     },
     "metadata": {},
     "output_type": "display_data"
    }
   ],
   "source": [
    "i_tunes['Genre'].value_counts().plot.bar()\n",
    "plt.show()\n"
   ]
  },
  {
   "cell_type": "markdown",
   "metadata": {},
   "source": [
    "                                             cleaning data"
   ]
  },
  {
   "cell_type": "markdown",
   "metadata": {},
   "source": [
    "Some common data cleaning steps include:\n",
    ". Removing irrelevant data\n",
    ". Dealing with missing values (filling in or dropping them)\n",
    ". Dealing with outliers\n",
    ". Dealing with duplicate values\n",
    ". Ensuring datatypes are correct\n",
    ". Standardizing data formats (e.g. mismatched capitalization, converting units)"
   ]
  },
  {
   "cell_type": "code",
   "execution_count": null,
   "metadata": {},
   "outputs": [],
   "source": []
  }
 ],
 "metadata": {
  "kernelspec": {
   "display_name": "Python 3",
   "language": "python",
   "name": "python3"
  },
  "language_info": {
   "codemirror_mode": {
    "name": "ipython",
    "version": 3
   },
   "file_extension": ".py",
   "mimetype": "text/x-python",
   "name": "python",
   "nbconvert_exporter": "python",
   "pygments_lexer": "ipython3",
   "version": "3.11.9"
  }
 },
 "nbformat": 4,
 "nbformat_minor": 2
}
